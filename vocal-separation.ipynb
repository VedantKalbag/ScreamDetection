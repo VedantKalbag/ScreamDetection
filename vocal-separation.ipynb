{
 "cells": [
  {
   "cell_type": "code",
   "execution_count": 4,
   "metadata": {},
   "outputs": [],
   "source": [
    "import os\n",
    "from spleeter.separator import Separator\n",
    "import soundfile as sf\n",
    "# Using embedded configuration.\n",
    "separator = Separator('spleeter:2stems')\n",
    "\n",
    "# # Using custom configuration file.\n",
    "# separator = Separator('/path/to/config.json')"
   ]
  },
  {
   "cell_type": "code",
   "execution_count": 5,
   "metadata": {},
   "outputs": [
    {
     "name": "stdout",
     "output_type": "stream",
     "text": [
      "INFO:tensorflow:Apply unet for vocals_spectrogram\n",
      "INFO:tensorflow:Apply unet for accompaniment_spectrogram\n",
      "INFO:tensorflow:Restoring parameters from pretrained_models/2stems/model\n"
     ]
    },
    {
     "name": "stderr",
     "output_type": "stream",
     "text": [
      "2021-10-20 08:46:54.729966: I tensorflow/core/common_runtime/gpu/gpu_device.cc:1258] Device interconnect StreamExecutor with strength 1 edge matrix:\n",
      "2021-10-20 08:46:54.729993: I tensorflow/core/common_runtime/gpu/gpu_device.cc:1264]      \n"
     ]
    },
    {
     "name": "stdout",
     "output_type": "stream",
     "text": [
      "[[ 3.5988982e-05  3.3657721e-05]\n",
      " [ 1.8056026e-05  7.6020538e-06]\n",
      " [-3.1801039e-05 -3.1053449e-05]\n",
      " ...\n",
      " [-1.0566702e-07 -4.2202092e-08]\n",
      " [-6.8460821e-08 -4.0028909e-09]\n",
      " [-1.3219093e-08 -1.7927906e-08]]\n"
     ]
    }
   ],
   "source": [
    "# Use audio loader explicitly for loading audio waveform :\n",
    "from spleeter.audio.adapter import AudioAdapter\n",
    "\n",
    "audio_loader = AudioAdapter.default()\n",
    "sample_rate = 44100\n",
    "i=0\n",
    "loc='./resources/dataset/YTDownloads/'\n",
    "for file_name in os.listdir(loc):\n",
    "    if file_name.endswith(\".wav\"):\n",
    "        name=file_name[:-4]\n",
    "        waveform, _ = audio_loader.load(loc+file_name, sample_rate=sample_rate)\n",
    "\n",
    "        # Perform the separation :\n",
    "        prediction = separator.separate(waveform)\n",
    "        sf.write('./resources/dataset/Audio/vocal_only/'+name+'_vocal.wav', prediction['vocals'], 44100)\n",
    "        # if i == 0:\n",
    "        #     print(prediction['vocals'])\n",
    "        #     break"
   ]
  },
  {
   "cell_type": "code",
   "execution_count": null,
   "metadata": {},
   "outputs": [],
   "source": []
  }
 ],
 "metadata": {
  "interpreter": {
   "hash": "802206bb6db1539b71df00790b2e1ed605311b936df16ad4f78357b9e7528267"
  },
  "kernelspec": {
   "display_name": "Python 3.8.12 64-bit ('scream_detection_venv': conda)",
   "name": "python3"
  },
  "language_info": {
   "codemirror_mode": {
    "name": "ipython",
    "version": 3
   },
   "file_extension": ".py",
   "mimetype": "text/x-python",
   "name": "python",
   "nbconvert_exporter": "python",
   "pygments_lexer": "ipython3",
   "version": "3.8.12"
  },
  "orig_nbformat": 4
 },
 "nbformat": 4,
 "nbformat_minor": 2
}
