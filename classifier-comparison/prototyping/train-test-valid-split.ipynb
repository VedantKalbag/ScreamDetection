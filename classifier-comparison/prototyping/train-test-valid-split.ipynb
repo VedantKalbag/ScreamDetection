{
 "cells": [
  {
   "cell_type": "code",
   "execution_count": 177,
   "metadata": {},
   "outputs": [],
   "source": [
    "from tensorflow.keras.utils import to_categorical\n",
    "import pandas as pd\n",
    "import os\n",
    "import pandas as pd\n",
    "import soundfile as sf\n",
    "import numpy as np\n",
    "from sklearn.utils import shuffle\n",
    "from sys import platform\n",
    "from sklearn.model_selection import train_test_split\n",
    "\n",
    "if platform == \"linux\" or platform == \"linux2\":\n",
    "    # linux\n",
    "    path='/home/vkalbag/projects/'\n",
    "elif platform == \"darwin\":\n",
    "    # OS X\n",
    "    path='/Users/vedant/Desktop/Programming/'"
   ]
  },
  {
   "cell_type": "code",
   "execution_count": 195,
   "metadata": {},
   "outputs": [
    {
     "ename": "EOFError",
     "evalue": "Ran out of input",
     "output_type": "error",
     "traceback": [
      "\u001b[0;31m---------------------------------------------------------------------------\u001b[0m",
      "\u001b[0;31mEOFError\u001b[0m                                  Traceback (most recent call last)",
      "\u001b[0;32m<ipython-input-195-461eb43fab78>\u001b[0m in \u001b[0;36m<module>\u001b[0;34m\u001b[0m\n\u001b[1;32m      1\u001b[0m \u001b[0mcols\u001b[0m\u001b[0;34m=\u001b[0m\u001b[0;34m[\u001b[0m\u001b[0;34m'video_id'\u001b[0m\u001b[0;34m,\u001b[0m\u001b[0;34m'start_time'\u001b[0m\u001b[0;34m,\u001b[0m\u001b[0;34m'mid_ts'\u001b[0m\u001b[0;34m,\u001b[0m\u001b[0;34m'label'\u001b[0m\u001b[0;34m,\u001b[0m\u001b[0;34m'audio'\u001b[0m\u001b[0;34m,\u001b[0m\u001b[0;34m'vggish'\u001b[0m\u001b[0;34m]\u001b[0m\u001b[0;34m\u001b[0m\u001b[0;34m\u001b[0m\u001b[0m\n\u001b[1;32m      2\u001b[0m \u001b[0;34m\u001b[0m\u001b[0m\n\u001b[0;32m----> 3\u001b[0;31m \u001b[0md\u001b[0m\u001b[0;34m=\u001b[0m\u001b[0mnp\u001b[0m\u001b[0;34m.\u001b[0m\u001b[0mload\u001b[0m\u001b[0;34m(\u001b[0m\u001b[0;34mf'{path}ScreamDetection/resources/working_data/vocal_only_data_with_vggish.npy'\u001b[0m\u001b[0;34m,\u001b[0m\u001b[0mallow_pickle\u001b[0m\u001b[0;34m=\u001b[0m\u001b[0;32mTrue\u001b[0m\u001b[0;34m)\u001b[0m\u001b[0;34m\u001b[0m\u001b[0;34m\u001b[0m\u001b[0m\n\u001b[0m\u001b[1;32m      4\u001b[0m \u001b[0mdf\u001b[0m \u001b[0;34m=\u001b[0m \u001b[0mpd\u001b[0m\u001b[0;34m.\u001b[0m\u001b[0mDataFrame\u001b[0m\u001b[0;34m(\u001b[0m\u001b[0md\u001b[0m\u001b[0;34m,\u001b[0m\u001b[0mcolumns\u001b[0m\u001b[0;34m=\u001b[0m\u001b[0mcols\u001b[0m\u001b[0;34m)\u001b[0m\u001b[0;34m\u001b[0m\u001b[0;34m\u001b[0m\u001b[0m\n\u001b[1;32m      5\u001b[0m \u001b[0;34m\u001b[0m\u001b[0m\n",
      "\u001b[0;32m/usr/local/lib/python3.9/site-packages/numpy/lib/npyio.py\u001b[0m in \u001b[0;36mload\u001b[0;34m(file, mmap_mode, allow_pickle, fix_imports, encoding)\u001b[0m\n\u001b[1;32m    437\u001b[0m                 \u001b[0;32mreturn\u001b[0m \u001b[0mformat\u001b[0m\u001b[0;34m.\u001b[0m\u001b[0mopen_memmap\u001b[0m\u001b[0;34m(\u001b[0m\u001b[0mfile\u001b[0m\u001b[0;34m,\u001b[0m \u001b[0mmode\u001b[0m\u001b[0;34m=\u001b[0m\u001b[0mmmap_mode\u001b[0m\u001b[0;34m)\u001b[0m\u001b[0;34m\u001b[0m\u001b[0;34m\u001b[0m\u001b[0m\n\u001b[1;32m    438\u001b[0m             \u001b[0;32melse\u001b[0m\u001b[0;34m:\u001b[0m\u001b[0;34m\u001b[0m\u001b[0;34m\u001b[0m\u001b[0m\n\u001b[0;32m--> 439\u001b[0;31m                 return format.read_array(fid, allow_pickle=allow_pickle,\n\u001b[0m\u001b[1;32m    440\u001b[0m                                          pickle_kwargs=pickle_kwargs)\n\u001b[1;32m    441\u001b[0m         \u001b[0;32melse\u001b[0m\u001b[0;34m:\u001b[0m\u001b[0;34m\u001b[0m\u001b[0;34m\u001b[0m\u001b[0m\n",
      "\u001b[0;32m/usr/local/lib/python3.9/site-packages/numpy/lib/format.py\u001b[0m in \u001b[0;36mread_array\u001b[0;34m(fp, allow_pickle, pickle_kwargs)\u001b[0m\n\u001b[1;32m    730\u001b[0m             \u001b[0mpickle_kwargs\u001b[0m \u001b[0;34m=\u001b[0m \u001b[0;34m{\u001b[0m\u001b[0;34m}\u001b[0m\u001b[0;34m\u001b[0m\u001b[0;34m\u001b[0m\u001b[0m\n\u001b[1;32m    731\u001b[0m         \u001b[0;32mtry\u001b[0m\u001b[0;34m:\u001b[0m\u001b[0;34m\u001b[0m\u001b[0;34m\u001b[0m\u001b[0m\n\u001b[0;32m--> 732\u001b[0;31m             \u001b[0marray\u001b[0m \u001b[0;34m=\u001b[0m \u001b[0mpickle\u001b[0m\u001b[0;34m.\u001b[0m\u001b[0mload\u001b[0m\u001b[0;34m(\u001b[0m\u001b[0mfp\u001b[0m\u001b[0;34m,\u001b[0m \u001b[0;34m**\u001b[0m\u001b[0mpickle_kwargs\u001b[0m\u001b[0;34m)\u001b[0m\u001b[0;34m\u001b[0m\u001b[0;34m\u001b[0m\u001b[0m\n\u001b[0m\u001b[1;32m    733\u001b[0m         \u001b[0;32mexcept\u001b[0m \u001b[0mUnicodeError\u001b[0m \u001b[0;32mas\u001b[0m \u001b[0merr\u001b[0m\u001b[0;34m:\u001b[0m\u001b[0;34m\u001b[0m\u001b[0;34m\u001b[0m\u001b[0m\n\u001b[1;32m    734\u001b[0m             \u001b[0;31m# Friendlier error message\u001b[0m\u001b[0;34m\u001b[0m\u001b[0;34m\u001b[0m\u001b[0m\n",
      "\u001b[0;31mEOFError\u001b[0m: Ran out of input"
     ]
    }
   ],
   "source": [
    "cols=['video_id','start_time','mid_ts','label','audio','vggish']\n",
    "\n",
    "d=np.load(f'{path}ScreamDetection/resources/working_data/vocal_only_data_with_vggish.npy',allow_pickle=True)\n",
    "df = pd.DataFrame(d,columns=cols)\n",
    "\n",
    "lut = pd.read_csv(f'{path}/ScreamDetection/resources/dataset/lookup_new.csv')"
   ]
  },
  {
   "cell_type": "code",
   "execution_count": 9,
   "metadata": {},
   "outputs": [
    {
     "data": {
      "text/html": [
       "<div>\n",
       "<style scoped>\n",
       "    .dataframe tbody tr th:only-of-type {\n",
       "        vertical-align: middle;\n",
       "    }\n",
       "\n",
       "    .dataframe tbody tr th {\n",
       "        vertical-align: top;\n",
       "    }\n",
       "\n",
       "    .dataframe thead th {\n",
       "        text-align: right;\n",
       "    }\n",
       "</style>\n",
       "<table border=\"1\" class=\"dataframe\">\n",
       "  <thead>\n",
       "    <tr style=\"text-align: right;\">\n",
       "      <th></th>\n",
       "      <th>video_id</th>\n",
       "      <th>start_time</th>\n",
       "      <th>mid_ts</th>\n",
       "      <th>label</th>\n",
       "      <th>audio</th>\n",
       "      <th>band_name</th>\n",
       "    </tr>\n",
       "  </thead>\n",
       "  <tbody>\n",
       "    <tr>\n",
       "      <th>0</th>\n",
       "      <td>4600fGWcn9o</td>\n",
       "      <td>0.0</td>\n",
       "      <td>0.5</td>\n",
       "      <td>no_vocals</td>\n",
       "      <td>[0.0, 0.0, 0.0, -3.0517578125e-05, -1.52587890...</td>\n",
       "      <td>Textures</td>\n",
       "    </tr>\n",
       "    <tr>\n",
       "      <th>1</th>\n",
       "      <td>4600fGWcn9o</td>\n",
       "      <td>0.5</td>\n",
       "      <td>1.0</td>\n",
       "      <td>no_vocals</td>\n",
       "      <td>[0.0004730224609375, 0.0001983642578125, -6.10...</td>\n",
       "      <td>Textures</td>\n",
       "    </tr>\n",
       "    <tr>\n",
       "      <th>2</th>\n",
       "      <td>4600fGWcn9o</td>\n",
       "      <td>1.0</td>\n",
       "      <td>1.5</td>\n",
       "      <td>no_vocals</td>\n",
       "      <td>[-4.57763671875e-05, -3.0517578125e-05, 1.5258...</td>\n",
       "      <td>Textures</td>\n",
       "    </tr>\n",
       "    <tr>\n",
       "      <th>3</th>\n",
       "      <td>4600fGWcn9o</td>\n",
       "      <td>1.5</td>\n",
       "      <td>2.0</td>\n",
       "      <td>no_vocals</td>\n",
       "      <td>[3.0517578125e-05, 0.0, -3.0517578125e-05, 0.0...</td>\n",
       "      <td>Textures</td>\n",
       "    </tr>\n",
       "    <tr>\n",
       "      <th>4</th>\n",
       "      <td>4600fGWcn9o</td>\n",
       "      <td>2.0</td>\n",
       "      <td>2.5</td>\n",
       "      <td>no_vocals</td>\n",
       "      <td>[-0.0008087158203125, -0.000885009765625, -0.0...</td>\n",
       "      <td>Textures</td>\n",
       "    </tr>\n",
       "    <tr>\n",
       "      <th>...</th>\n",
       "      <td>...</td>\n",
       "      <td>...</td>\n",
       "      <td>...</td>\n",
       "      <td>...</td>\n",
       "      <td>...</td>\n",
       "      <td>...</td>\n",
       "    </tr>\n",
       "    <tr>\n",
       "      <th>33815</th>\n",
       "      <td>0m5fIHHfJTw</td>\n",
       "      <td>217.5</td>\n",
       "      <td>218.0</td>\n",
       "      <td>no_vocals</td>\n",
       "      <td>[1.52587890625e-05, 6.103515625e-05, 0.0001220...</td>\n",
       "      <td>Lamb of God</td>\n",
       "    </tr>\n",
       "    <tr>\n",
       "      <th>33816</th>\n",
       "      <td>0m5fIHHfJTw</td>\n",
       "      <td>218.0</td>\n",
       "      <td>218.5</td>\n",
       "      <td>no_vocals</td>\n",
       "      <td>[6.103515625e-05, 9.1552734375e-05, 0.00012207...</td>\n",
       "      <td>Lamb of God</td>\n",
       "    </tr>\n",
       "    <tr>\n",
       "      <th>33817</th>\n",
       "      <td>0m5fIHHfJTw</td>\n",
       "      <td>218.5</td>\n",
       "      <td>219.0</td>\n",
       "      <td>no_vocals</td>\n",
       "      <td>[0.0, -1.52587890625e-05, -1.52587890625e-05, ...</td>\n",
       "      <td>Lamb of God</td>\n",
       "    </tr>\n",
       "    <tr>\n",
       "      <th>33818</th>\n",
       "      <td>0m5fIHHfJTw</td>\n",
       "      <td>219.0</td>\n",
       "      <td>219.5</td>\n",
       "      <td>no_vocals</td>\n",
       "      <td>[-1.52587890625e-05, -1.52587890625e-05, -1.52...</td>\n",
       "      <td>Lamb of God</td>\n",
       "    </tr>\n",
       "    <tr>\n",
       "      <th>33819</th>\n",
       "      <td>0m5fIHHfJTw</td>\n",
       "      <td>219.5</td>\n",
       "      <td>220.0</td>\n",
       "      <td>no_vocals</td>\n",
       "      <td>[-1.52587890625e-05, -1.52587890625e-05, -1.52...</td>\n",
       "      <td>Lamb of God</td>\n",
       "    </tr>\n",
       "  </tbody>\n",
       "</table>\n",
       "<p>33820 rows × 6 columns</p>\n",
       "</div>"
      ],
      "text/plain": [
       "          video_id start_time mid_ts      label  \\\n",
       "0      4600fGWcn9o        0.0    0.5  no_vocals   \n",
       "1      4600fGWcn9o        0.5    1.0  no_vocals   \n",
       "2      4600fGWcn9o        1.0    1.5  no_vocals   \n",
       "3      4600fGWcn9o        1.5    2.0  no_vocals   \n",
       "4      4600fGWcn9o        2.0    2.5  no_vocals   \n",
       "...            ...        ...    ...        ...   \n",
       "33815  0m5fIHHfJTw      217.5  218.0  no_vocals   \n",
       "33816  0m5fIHHfJTw      218.0  218.5  no_vocals   \n",
       "33817  0m5fIHHfJTw      218.5  219.0  no_vocals   \n",
       "33818  0m5fIHHfJTw      219.0  219.5  no_vocals   \n",
       "33819  0m5fIHHfJTw      219.5  220.0  no_vocals   \n",
       "\n",
       "                                                   audio    band_name  \n",
       "0      [0.0, 0.0, 0.0, -3.0517578125e-05, -1.52587890...     Textures  \n",
       "1      [0.0004730224609375, 0.0001983642578125, -6.10...     Textures  \n",
       "2      [-4.57763671875e-05, -3.0517578125e-05, 1.5258...     Textures  \n",
       "3      [3.0517578125e-05, 0.0, -3.0517578125e-05, 0.0...     Textures  \n",
       "4      [-0.0008087158203125, -0.000885009765625, -0.0...     Textures  \n",
       "...                                                  ...          ...  \n",
       "33815  [1.52587890625e-05, 6.103515625e-05, 0.0001220...  Lamb of God  \n",
       "33816  [6.103515625e-05, 9.1552734375e-05, 0.00012207...  Lamb of God  \n",
       "33817  [0.0, -1.52587890625e-05, -1.52587890625e-05, ...  Lamb of God  \n",
       "33818  [-1.52587890625e-05, -1.52587890625e-05, -1.52...  Lamb of God  \n",
       "33819  [-1.52587890625e-05, -1.52587890625e-05, -1.52...  Lamb of God  \n",
       "\n",
       "[33820 rows x 6 columns]"
      ]
     },
     "execution_count": 9,
     "metadata": {},
     "output_type": "execute_result"
    }
   ],
   "source": [
    "df=df.merge(lut[['video_id','band_name']],on='video_id')\n",
    "df"
   ]
  },
  {
   "cell_type": "code",
   "execution_count": 13,
   "metadata": {},
   "outputs": [],
   "source": [
    "feature_df=df[['label','audio','band_name']]\n",
    "mapping=[]\n",
    "for index,row in feature_df.iterrows():\n",
    "    if row['label'] == 'clean':\n",
    "        mapping.append(0)\n",
    "    if row['label'] == 'highfry':\n",
    "        mapping.append(1)\n",
    "    if row['label'] == 'layered':\n",
    "        mapping.append(1)\n",
    "    if row['label'] == 'lowfry':\n",
    "        mapping.append(1)\n",
    "    if row['label'] == 'midfry':\n",
    "        mapping.append(1)\n",
    "    if row['label'] == 'no_vocals':\n",
    "        mapping.append(2)\n",
    "\n",
    "feature_df.insert(3,'label_mapped',mapping)"
   ]
  },
  {
   "cell_type": "markdown",
   "metadata": {},
   "source": [
    "## Undersampling the master data"
   ]
  },
  {
   "cell_type": "code",
   "execution_count": 163,
   "metadata": {},
   "outputs": [],
   "source": [
    "from imblearn.under_sampling import RandomUnderSampler\n",
    "undersample = RandomUnderSampler(sampling_strategy={0:2462,1:3000,2:3000},random_state=0)\n",
    "X = feature_df[['audio','band_name']].to_numpy()\n",
    "y=feature_df['label_mapped'].to_numpy()\n",
    "X_under, y_under = undersample.fit_resample(X, y)\n",
    "\n",
    "band_names = X_under[:,1]\n",
    "X_under=X_under[:,0]#.reshape(-1,1).flatten()\n",
    "y_under=y_under"
   ]
  },
  {
   "cell_type": "code",
   "execution_count": 141,
   "metadata": {},
   "outputs": [
    {
     "name": "stdout",
     "output_type": "stream",
     "text": [
      "y_under\n",
      "0    2462\n",
      "1    3000\n",
      "2    3000\n",
      "Name: blah, dtype: int64\n"
     ]
    }
   ],
   "source": [
    "d=pd.DataFrame()\n",
    "d['y_under'] = y_under\n",
    "d['blah'] = 1\n",
    "\n",
    "print(d.groupby('y_under')['blah'].count())"
   ]
  },
  {
   "cell_type": "code",
   "execution_count": 169,
   "metadata": {},
   "outputs": [
    {
     "name": "stdout",
     "output_type": "stream",
     "text": [
      "band_names\n",
      "Abbath                80\n",
      "After The Burial     104\n",
      "Amon Amarth          309\n",
      "Be'lakor             195\n",
      "Behemoth             398\n",
      "Born of Osiris        81\n",
      "Cannibal Corpse       96\n",
      "Children Of Bodom    282\n",
      "Children of Bodom    276\n",
      "Dark Tranquillity    275\n",
      "Death                186\n",
      "Decapitated          217\n",
      "Ensiferum            181\n",
      "Enslaved             167\n",
      "Godless               89\n",
      "Gojira               291\n",
      "Immortal             109\n",
      "In Flames            132\n",
      "Lamb of God          551\n",
      "Ne Obliviscaris      551\n",
      "Nevermore            288\n",
      "Of Mice & Men        447\n",
      "Opeth                254\n",
      "Parkway Drive         87\n",
      "Rings of Saturn       82\n",
      "Slayer               373\n",
      "Slipknot             187\n",
      "Suffocation           85\n",
      "Suicide Silence      357\n",
      "Tesseract            385\n",
      "Textures             511\n",
      "Thy Art Is Murder     97\n",
      "Veil of Maya         199\n",
      "Wintersun            540\n",
      "Name: blah, dtype: int64\n"
     ]
    }
   ],
   "source": [
    "d=pd.DataFrame()\n",
    "d['band_names'] = band_names\n",
    "d['blah'] = 1\n",
    "\n",
    "print(d.groupby('band_names')['blah'].count())"
   ]
  },
  {
   "cell_type": "markdown",
   "metadata": {},
   "source": [
    "## Creating train-test-validation split"
   ]
  },
  {
   "cell_type": "code",
   "execution_count": 179,
   "metadata": {},
   "outputs": [],
   "source": [
    "X_train, X_test1, y_train, y_test1 = train_test_split(X_under, y_under,stratify=band_names, test_size=0.3,random_state=42)\n",
    "\n",
    "X_test,X_valid,y_test,y_valid = train_test_split(X_test1, y_test1,test_size=0.5,random_state=42)"
   ]
  },
  {
   "cell_type": "code",
   "execution_count": 184,
   "metadata": {},
   "outputs": [
    {
     "name": "stdout",
     "output_type": "stream",
     "text": [
      "TRAIN\n",
      "y_train\n",
      "0    1719\n",
      "1    2094\n",
      "2    2110\n",
      "Name: blah, dtype: int64\n",
      "TEST\n",
      "y_test\n",
      "0    351\n",
      "1    459\n",
      "2    459\n",
      "Name: blah, dtype: int64\n",
      "VALID\n",
      "y_valid\n",
      "0    392\n",
      "1    447\n",
      "2    431\n",
      "Name: blah, dtype: int64\n",
      "Train:Test:Validation - 5923:1269:1270\n"
     ]
    }
   ],
   "source": [
    "d=pd.DataFrame()\n",
    "d['y_train'] = y_train\n",
    "d['blah'] = 1\n",
    "print('TRAIN')\n",
    "print(d.groupby('y_train')['blah'].count())\n",
    "train = d['blah'].sum()\n",
    "\n",
    "d=pd.DataFrame()\n",
    "d['y_test'] = y_test\n",
    "d['blah'] = 1\n",
    "print('TEST')\n",
    "print(d.groupby('y_test')['blah'].count())\n",
    "test = d['blah'].sum()\n",
    "d=pd.DataFrame()\n",
    "d['y_valid'] = y_valid\n",
    "d['blah'] = 1\n",
    "print('VALID')\n",
    "print(d.groupby('y_valid')['blah'].count())\n",
    "valid = d['blah'].sum()\n",
    "\n",
    "print(f\"Train:Test:Validation - {train}:{test}:{valid}\")"
   ]
  },
  {
   "cell_type": "code",
   "execution_count": 193,
   "metadata": {},
   "outputs": [],
   "source": [
    "y_train_hot = to_categorical(y_train)\n",
    "y_test_hot = to_categorical(y_test)\n",
    "y_valid_hot = to_categorical(y_valid)\n",
    "\n",
    "X_train,y_train=shuffle(X_train,y_train_hot)\n",
    "X_test,y_test=shuffle(X_test,y_test_hot)\n",
    "X_valid,y_valid=shuffle(X_valid,y_valid_hot)\n",
    "\n",
    "np.save(f'{path}ScreamDetection/FINAL/working_data_final/x_train-rawaudio.npy', X_train)\n",
    "np.save(f'{path}ScreamDetection/FINAL/working_data_final/x_test-rawaudio.npy', X_test)\n",
    "np.save(f'{path}ScreamDetection/FINAL/working_data_final/x_valid-rawaudio.npy', X_valid)\n",
    "\n",
    "np.save(f'{path}ScreamDetection/FINAL/working_data_final/y_train-rawaudio.npy', y_train)\n",
    "np.save(f'{path}ScreamDetection/FINAL/working_data_final/y_test-rawaudio.npy', y_test)\n",
    "np.save(f'{path}ScreamDetection/FINAL/working_data_final/y_valid-rawaudio.npy', y_valid)"
   ]
  },
  {
   "cell_type": "code",
   "execution_count": null,
   "metadata": {},
   "outputs": [],
   "source": []
  }
 ],
 "metadata": {
  "interpreter": {
   "hash": "aee8b7b246df8f9039afb4144a1f6fd8d2ca17a180786b69acc140d282b71a49"
  },
  "kernelspec": {
   "display_name": "Python 3.9.7 64-bit",
   "language": "python",
   "name": "python3"
  },
  "language_info": {
   "codemirror_mode": {
    "name": "ipython",
    "version": 3
   },
   "file_extension": ".py",
   "mimetype": "text/x-python",
   "name": "python",
   "nbconvert_exporter": "python",
   "pygments_lexer": "ipython3",
   "version": "3.9.7"
  },
  "orig_nbformat": 4
 },
 "nbformat": 4,
 "nbformat_minor": 2
}
