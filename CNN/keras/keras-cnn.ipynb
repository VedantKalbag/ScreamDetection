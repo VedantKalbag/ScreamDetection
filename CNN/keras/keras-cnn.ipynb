{
 "cells": [
  {
   "cell_type": "code",
   "execution_count": 18,
   "metadata": {},
   "outputs": [],
   "source": [
    "import tensorflow.keras as keras\n",
    "from tensorflow.keras.models import Sequential\n",
    "from tensorflow.keras.layers import Dense, Dropout, Flatten\n",
    "from tensorflow.keras.layers import Conv2D, MaxPooling2D\n",
    "from tensorflow.keras import backend as K\n",
    "from tensorflow.keras.utils import to_categorical\n",
    "import plotly.graph_objs as go\n",
    "from plotly.subplots import make_subplots\n",
    "\n",
    "import pandas as pd\n",
    "from sklearn.utils import shuffle\n",
    "\n",
    "from sys import platform\n",
    "if platform == \"linux\" or platform == \"linux2\":\n",
    "    # linux\n",
    "    path='/home/vedant/projects/'\n",
    "elif platform == \"darwin\":\n",
    "    # OS X\n",
    "    path='/Users/vedant/Desktop/Programming/'\n"
   ]
  },
  {
   "cell_type": "code",
   "execution_count": 5,
   "metadata": {},
   "outputs": [],
   "source": [
    "import os\n",
    "import pandas as pd\n",
    "import soundfile as sf\n",
    "import numpy as np\n",
    "\n",
    "cols=['video_id','start_time','mid_ts','label','audio','vggish']\n",
    "\n",
    "d=np.load(f'{path}ScreamDetection/resources/working_data/vocal_only_data_with_vggish.npy',allow_pickle=True)\n",
    "df = pd.DataFrame(d,columns=cols)\n",
    "\n",
    "lut = pd.read_csv(f'{path}/ScreamDetection/resources/dataset/lookup_new.csv')"
   ]
  },
  {
   "cell_type": "code",
   "execution_count": 6,
   "metadata": {},
   "outputs": [],
   "source": [
    "feature_df=df[cols]\n",
    "mapping=[]\n",
    "for index,row in feature_df.iterrows():\n",
    "    if row['label'] == 'clean':\n",
    "        mapping.append(0)\n",
    "    if row['label'] == 'highfry':\n",
    "        mapping.append(1)\n",
    "    if row['label'] == 'layered':\n",
    "        mapping.append(1)\n",
    "    if row['label'] == 'lowfry':\n",
    "        mapping.append(1)\n",
    "    if row['label'] == 'midfry':\n",
    "        mapping.append(1)\n",
    "    if row['label'] == 'no_vocals':\n",
    "        mapping.append(2)\n",
    "\n",
    "feature_df.insert(4,'label_mapped',mapping)"
   ]
  },
  {
   "cell_type": "code",
   "execution_count": 7,
   "metadata": {},
   "outputs": [
    {
     "data": {
      "text/html": [
       "<div>\n",
       "<style scoped>\n",
       "    .dataframe tbody tr th:only-of-type {\n",
       "        vertical-align: middle;\n",
       "    }\n",
       "\n",
       "    .dataframe tbody tr th {\n",
       "        vertical-align: top;\n",
       "    }\n",
       "\n",
       "    .dataframe thead th {\n",
       "        text-align: right;\n",
       "    }\n",
       "</style>\n",
       "<table border=\"1\" class=\"dataframe\">\n",
       "  <thead>\n",
       "    <tr style=\"text-align: right;\">\n",
       "      <th></th>\n",
       "      <th>video_id</th>\n",
       "      <th>start_time</th>\n",
       "      <th>mid_ts</th>\n",
       "      <th>label</th>\n",
       "      <th>label_mapped</th>\n",
       "      <th>audio</th>\n",
       "      <th>vggish</th>\n",
       "    </tr>\n",
       "  </thead>\n",
       "  <tbody>\n",
       "    <tr>\n",
       "      <th>0</th>\n",
       "      <td>4600fGWcn9o</td>\n",
       "      <td>0.0</td>\n",
       "      <td>0.5</td>\n",
       "      <td>no_vocals</td>\n",
       "      <td>2</td>\n",
       "      <td>[0.0, 0.0, 0.0, -3.0517578125e-05, -1.52587890...</td>\n",
       "      <td>[166.0, 8.0, 149.0, 128.0, 199.0, 57.0, 96.0, ...</td>\n",
       "    </tr>\n",
       "    <tr>\n",
       "      <th>1</th>\n",
       "      <td>4600fGWcn9o</td>\n",
       "      <td>0.5</td>\n",
       "      <td>1.0</td>\n",
       "      <td>no_vocals</td>\n",
       "      <td>2</td>\n",
       "      <td>[0.0004730224609375, 0.0001983642578125, -6.10...</td>\n",
       "      <td>[175.0, 10.0, 147.0, 103.0, 210.0, 74.0, 81.0,...</td>\n",
       "    </tr>\n",
       "    <tr>\n",
       "      <th>2</th>\n",
       "      <td>4600fGWcn9o</td>\n",
       "      <td>1.0</td>\n",
       "      <td>1.5</td>\n",
       "      <td>no_vocals</td>\n",
       "      <td>2</td>\n",
       "      <td>[-4.57763671875e-05, -3.0517578125e-05, 1.5258...</td>\n",
       "      <td>[173.0, 10.0, 148.0, 131.0, 191.0, 76.0, 71.0,...</td>\n",
       "    </tr>\n",
       "    <tr>\n",
       "      <th>3</th>\n",
       "      <td>4600fGWcn9o</td>\n",
       "      <td>1.5</td>\n",
       "      <td>2.0</td>\n",
       "      <td>no_vocals</td>\n",
       "      <td>2</td>\n",
       "      <td>[3.0517578125e-05, 0.0, -3.0517578125e-05, 0.0...</td>\n",
       "      <td>[164.0, 7.0, 154.0, 128.0, 190.0, 80.0, 29.0, ...</td>\n",
       "    </tr>\n",
       "    <tr>\n",
       "      <th>4</th>\n",
       "      <td>4600fGWcn9o</td>\n",
       "      <td>2.0</td>\n",
       "      <td>2.5</td>\n",
       "      <td>no_vocals</td>\n",
       "      <td>2</td>\n",
       "      <td>[-0.0008087158203125, -0.000885009765625, -0.0...</td>\n",
       "      <td>[169.0, 11.0, 146.0, 115.0, 191.0, 75.0, 108.0...</td>\n",
       "    </tr>\n",
       "    <tr>\n",
       "      <th>...</th>\n",
       "      <td>...</td>\n",
       "      <td>...</td>\n",
       "      <td>...</td>\n",
       "      <td>...</td>\n",
       "      <td>...</td>\n",
       "      <td>...</td>\n",
       "      <td>...</td>\n",
       "    </tr>\n",
       "    <tr>\n",
       "      <th>33815</th>\n",
       "      <td>0m5fIHHfJTw</td>\n",
       "      <td>217.5</td>\n",
       "      <td>218.0</td>\n",
       "      <td>no_vocals</td>\n",
       "      <td>2</td>\n",
       "      <td>[1.52587890625e-05, 6.103515625e-05, 0.0001220...</td>\n",
       "      <td>[174.0, 13.0, 142.0, 130.0, 194.0, 76.0, 84.0,...</td>\n",
       "    </tr>\n",
       "    <tr>\n",
       "      <th>33816</th>\n",
       "      <td>0m5fIHHfJTw</td>\n",
       "      <td>218.0</td>\n",
       "      <td>218.5</td>\n",
       "      <td>no_vocals</td>\n",
       "      <td>2</td>\n",
       "      <td>[6.103515625e-05, 9.1552734375e-05, 0.00012207...</td>\n",
       "      <td>[174.0, 10.0, 148.0, 124.0, 190.0, 77.0, 86.0,...</td>\n",
       "    </tr>\n",
       "    <tr>\n",
       "      <th>33817</th>\n",
       "      <td>0m5fIHHfJTw</td>\n",
       "      <td>218.5</td>\n",
       "      <td>219.0</td>\n",
       "      <td>no_vocals</td>\n",
       "      <td>2</td>\n",
       "      <td>[0.0, -1.52587890625e-05, -1.52587890625e-05, ...</td>\n",
       "      <td>[171.0, 9.0, 140.0, 110.0, 201.0, 56.0, 68.0, ...</td>\n",
       "    </tr>\n",
       "    <tr>\n",
       "      <th>33818</th>\n",
       "      <td>0m5fIHHfJTw</td>\n",
       "      <td>219.0</td>\n",
       "      <td>219.5</td>\n",
       "      <td>no_vocals</td>\n",
       "      <td>2</td>\n",
       "      <td>[-1.52587890625e-05, -1.52587890625e-05, -1.52...</td>\n",
       "      <td>[172.0, 10.0, 141.0, 109.0, 203.0, 56.0, 71.0,...</td>\n",
       "    </tr>\n",
       "    <tr>\n",
       "      <th>33819</th>\n",
       "      <td>0m5fIHHfJTw</td>\n",
       "      <td>219.5</td>\n",
       "      <td>220.0</td>\n",
       "      <td>no_vocals</td>\n",
       "      <td>2</td>\n",
       "      <td>[-1.52587890625e-05, -1.52587890625e-05, -1.52...</td>\n",
       "      <td>[175.0, 9.0, 147.0, 98.0, 214.0, 75.0, 78.0, 1...</td>\n",
       "    </tr>\n",
       "  </tbody>\n",
       "</table>\n",
       "<p>33820 rows × 7 columns</p>\n",
       "</div>"
      ],
      "text/plain": [
       "          video_id start_time mid_ts      label  label_mapped  \\\n",
       "0      4600fGWcn9o        0.0    0.5  no_vocals             2   \n",
       "1      4600fGWcn9o        0.5    1.0  no_vocals             2   \n",
       "2      4600fGWcn9o        1.0    1.5  no_vocals             2   \n",
       "3      4600fGWcn9o        1.5    2.0  no_vocals             2   \n",
       "4      4600fGWcn9o        2.0    2.5  no_vocals             2   \n",
       "...            ...        ...    ...        ...           ...   \n",
       "33815  0m5fIHHfJTw      217.5  218.0  no_vocals             2   \n",
       "33816  0m5fIHHfJTw      218.0  218.5  no_vocals             2   \n",
       "33817  0m5fIHHfJTw      218.5  219.0  no_vocals             2   \n",
       "33818  0m5fIHHfJTw      219.0  219.5  no_vocals             2   \n",
       "33819  0m5fIHHfJTw      219.5  220.0  no_vocals             2   \n",
       "\n",
       "                                                   audio  \\\n",
       "0      [0.0, 0.0, 0.0, -3.0517578125e-05, -1.52587890...   \n",
       "1      [0.0004730224609375, 0.0001983642578125, -6.10...   \n",
       "2      [-4.57763671875e-05, -3.0517578125e-05, 1.5258...   \n",
       "3      [3.0517578125e-05, 0.0, -3.0517578125e-05, 0.0...   \n",
       "4      [-0.0008087158203125, -0.000885009765625, -0.0...   \n",
       "...                                                  ...   \n",
       "33815  [1.52587890625e-05, 6.103515625e-05, 0.0001220...   \n",
       "33816  [6.103515625e-05, 9.1552734375e-05, 0.00012207...   \n",
       "33817  [0.0, -1.52587890625e-05, -1.52587890625e-05, ...   \n",
       "33818  [-1.52587890625e-05, -1.52587890625e-05, -1.52...   \n",
       "33819  [-1.52587890625e-05, -1.52587890625e-05, -1.52...   \n",
       "\n",
       "                                                  vggish  \n",
       "0      [166.0, 8.0, 149.0, 128.0, 199.0, 57.0, 96.0, ...  \n",
       "1      [175.0, 10.0, 147.0, 103.0, 210.0, 74.0, 81.0,...  \n",
       "2      [173.0, 10.0, 148.0, 131.0, 191.0, 76.0, 71.0,...  \n",
       "3      [164.0, 7.0, 154.0, 128.0, 190.0, 80.0, 29.0, ...  \n",
       "4      [169.0, 11.0, 146.0, 115.0, 191.0, 75.0, 108.0...  \n",
       "...                                                  ...  \n",
       "33815  [174.0, 13.0, 142.0, 130.0, 194.0, 76.0, 84.0,...  \n",
       "33816  [174.0, 10.0, 148.0, 124.0, 190.0, 77.0, 86.0,...  \n",
       "33817  [171.0, 9.0, 140.0, 110.0, 201.0, 56.0, 68.0, ...  \n",
       "33818  [172.0, 10.0, 141.0, 109.0, 203.0, 56.0, 71.0,...  \n",
       "33819  [175.0, 9.0, 147.0, 98.0, 214.0, 75.0, 78.0, 1...  \n",
       "\n",
       "[33820 rows x 7 columns]"
      ]
     },
     "execution_count": 7,
     "metadata": {},
     "output_type": "execute_result"
    }
   ],
   "source": [
    "feature_df"
   ]
  },
  {
   "cell_type": "code",
   "execution_count": 8,
   "metadata": {},
   "outputs": [],
   "source": [
    "from imblearn.under_sampling import RandomUnderSampler\n",
    "undersample = RandomUnderSampler(sampling_strategy='not minority',random_state=0)\n",
    "from collections import Counter\n",
    "X = feature_df[cols].to_numpy()\n",
    "y=feature_df[['label_mapped']].to_numpy()\n",
    "\n",
    "X_under, y_under = undersample.fit_resample(X, y)\n",
    "\n",
    "undersampled_data = pd.DataFrame(X_under,columns=cols)\n",
    "undersampled_data['label_mapped'] = y_under\n",
    "#print(undersampled_data)\n",
    "\n",
    "\n",
    "from sklearn.model_selection import GroupShuffleSplit\n",
    "train_inds, test_inds = next(GroupShuffleSplit(test_size=.2, n_splits=2, random_state = 0).split(lut, groups=lut['band_name']))\n",
    "\n",
    "train = lut.iloc[train_inds]\n",
    "test = lut.iloc[test_inds]\n",
    "\n",
    "train_ids = train['video_id'].to_numpy()\n",
    "test_ids = test['video_id'].to_numpy()\n",
    "\n",
    "#df_final = df\n",
    "df_final = undersampled_data\n",
    "train = df_final[df_final.video_id.isin(train_ids)]\n",
    "test = df_final[df_final.video_id.isin(test_ids)]"
   ]
  },
  {
   "cell_type": "code",
   "execution_count": 9,
   "metadata": {},
   "outputs": [
    {
     "data": {
      "text/html": [
       "<div>\n",
       "<style scoped>\n",
       "    .dataframe tbody tr th:only-of-type {\n",
       "        vertical-align: middle;\n",
       "    }\n",
       "\n",
       "    .dataframe tbody tr th {\n",
       "        vertical-align: top;\n",
       "    }\n",
       "\n",
       "    .dataframe thead th {\n",
       "        text-align: right;\n",
       "    }\n",
       "</style>\n",
       "<table border=\"1\" class=\"dataframe\">\n",
       "  <thead>\n",
       "    <tr style=\"text-align: right;\">\n",
       "      <th></th>\n",
       "      <th>video_id</th>\n",
       "      <th>start_time</th>\n",
       "      <th>mid_ts</th>\n",
       "      <th>label</th>\n",
       "      <th>audio</th>\n",
       "      <th>vggish</th>\n",
       "      <th>label_mapped</th>\n",
       "    </tr>\n",
       "  </thead>\n",
       "  <tbody>\n",
       "    <tr>\n",
       "      <th>0</th>\n",
       "      <td>4600fGWcn9o</td>\n",
       "      <td>56.0</td>\n",
       "      <td>56.5</td>\n",
       "      <td>clean</td>\n",
       "      <td>[0.393218994140625, 0.3555908203125, 0.3164520...</td>\n",
       "      <td>[172.0, 25.0, 179.0, 154.0, 204.0, 79.0, 104.0...</td>\n",
       "      <td>0</td>\n",
       "    </tr>\n",
       "    <tr>\n",
       "      <th>1</th>\n",
       "      <td>4600fGWcn9o</td>\n",
       "      <td>56.5</td>\n",
       "      <td>57.0</td>\n",
       "      <td>clean</td>\n",
       "      <td>[0.0284576416015625, 0.06842041015625, 0.10578...</td>\n",
       "      <td>[182.0, 36.0, 195.0, 88.0, 196.0, 60.0, 115.0,...</td>\n",
       "      <td>0</td>\n",
       "    </tr>\n",
       "    <tr>\n",
       "      <th>2</th>\n",
       "      <td>4600fGWcn9o</td>\n",
       "      <td>57.0</td>\n",
       "      <td>57.5</td>\n",
       "      <td>clean</td>\n",
       "      <td>[-0.2148284912109375, -0.27899169921875, -0.30...</td>\n",
       "      <td>[174.0, 26.0, 167.0, 139.0, 215.0, 80.0, 89.0,...</td>\n",
       "      <td>0</td>\n",
       "    </tr>\n",
       "    <tr>\n",
       "      <th>3</th>\n",
       "      <td>4600fGWcn9o</td>\n",
       "      <td>57.5</td>\n",
       "      <td>58.0</td>\n",
       "      <td>clean</td>\n",
       "      <td>[-0.1547698974609375, -0.1190185546875, -0.075...</td>\n",
       "      <td>[180.0, 30.0, 185.0, 99.0, 217.0, 115.0, 137.0...</td>\n",
       "      <td>0</td>\n",
       "    </tr>\n",
       "    <tr>\n",
       "      <th>4</th>\n",
       "      <td>4600fGWcn9o</td>\n",
       "      <td>58.0</td>\n",
       "      <td>58.5</td>\n",
       "      <td>clean</td>\n",
       "      <td>[-0.080902099609375, -0.1483001708984375, -0.1...</td>\n",
       "      <td>[174.0, 22.0, 177.0, 122.0, 197.0, 96.0, 105.0...</td>\n",
       "      <td>0</td>\n",
       "    </tr>\n",
       "    <tr>\n",
       "      <th>...</th>\n",
       "      <td>...</td>\n",
       "      <td>...</td>\n",
       "      <td>...</td>\n",
       "      <td>...</td>\n",
       "      <td>...</td>\n",
       "      <td>...</td>\n",
       "      <td>...</td>\n",
       "    </tr>\n",
       "    <tr>\n",
       "      <th>7379</th>\n",
       "      <td>JuRRnVqv2Vc</td>\n",
       "      <td>112.0</td>\n",
       "      <td>112.5</td>\n",
       "      <td>no_vocals</td>\n",
       "      <td>[-0.0001068115234375, 3.0517578125e-05, 0.0001...</td>\n",
       "      <td>[173.0, 12.0, 156.0, 104.0, 214.0, 81.0, 99.0,...</td>\n",
       "      <td>2</td>\n",
       "    </tr>\n",
       "    <tr>\n",
       "      <th>7380</th>\n",
       "      <td>hwxTEcHnC1o</td>\n",
       "      <td>113.0</td>\n",
       "      <td>113.5</td>\n",
       "      <td>no_vocals</td>\n",
       "      <td>[0.004638671875, 0.0041656494140625, 0.0032806...</td>\n",
       "      <td>[169.0, 14.0, 141.0, 127.0, 199.0, 59.0, 79.0,...</td>\n",
       "      <td>2</td>\n",
       "    </tr>\n",
       "    <tr>\n",
       "      <th>7382</th>\n",
       "      <td>FukeNR1ydOA</td>\n",
       "      <td>133.5</td>\n",
       "      <td>134.0</td>\n",
       "      <td>no_vocals</td>\n",
       "      <td>[0.01397705078125, 0.012451171875, 0.010940551...</td>\n",
       "      <td>[171.0, 15.0, 163.0, 113.0, 197.0, 88.0, 107.0...</td>\n",
       "      <td>2</td>\n",
       "    </tr>\n",
       "    <tr>\n",
       "      <th>7383</th>\n",
       "      <td>B7iIS91fMAc</td>\n",
       "      <td>10.0</td>\n",
       "      <td>10.5</td>\n",
       "      <td>no_vocals</td>\n",
       "      <td>[-3.0517578125e-05, -1.52587890625e-05, 0.0, -...</td>\n",
       "      <td>[161.0, 0.0, 154.0, 132.0, 180.0, 66.0, 46.0, ...</td>\n",
       "      <td>2</td>\n",
       "    </tr>\n",
       "    <tr>\n",
       "      <th>7384</th>\n",
       "      <td>B7iIS91fMAc</td>\n",
       "      <td>29.5</td>\n",
       "      <td>30.0</td>\n",
       "      <td>no_vocals</td>\n",
       "      <td>[-0.0030975341796875, -0.0030975341796875, -0....</td>\n",
       "      <td>[171.0, 11.0, 148.0, 117.0, 191.0, 73.0, 117.0...</td>\n",
       "      <td>2</td>\n",
       "    </tr>\n",
       "  </tbody>\n",
       "</table>\n",
       "<p>5449 rows × 7 columns</p>\n",
       "</div>"
      ],
      "text/plain": [
       "         video_id start_time mid_ts      label  \\\n",
       "0     4600fGWcn9o       56.0   56.5      clean   \n",
       "1     4600fGWcn9o       56.5   57.0      clean   \n",
       "2     4600fGWcn9o       57.0   57.5      clean   \n",
       "3     4600fGWcn9o       57.5   58.0      clean   \n",
       "4     4600fGWcn9o       58.0   58.5      clean   \n",
       "...           ...        ...    ...        ...   \n",
       "7379  JuRRnVqv2Vc      112.0  112.5  no_vocals   \n",
       "7380  hwxTEcHnC1o      113.0  113.5  no_vocals   \n",
       "7382  FukeNR1ydOA      133.5  134.0  no_vocals   \n",
       "7383  B7iIS91fMAc       10.0   10.5  no_vocals   \n",
       "7384  B7iIS91fMAc       29.5   30.0  no_vocals   \n",
       "\n",
       "                                                  audio  \\\n",
       "0     [0.393218994140625, 0.3555908203125, 0.3164520...   \n",
       "1     [0.0284576416015625, 0.06842041015625, 0.10578...   \n",
       "2     [-0.2148284912109375, -0.27899169921875, -0.30...   \n",
       "3     [-0.1547698974609375, -0.1190185546875, -0.075...   \n",
       "4     [-0.080902099609375, -0.1483001708984375, -0.1...   \n",
       "...                                                 ...   \n",
       "7379  [-0.0001068115234375, 3.0517578125e-05, 0.0001...   \n",
       "7380  [0.004638671875, 0.0041656494140625, 0.0032806...   \n",
       "7382  [0.01397705078125, 0.012451171875, 0.010940551...   \n",
       "7383  [-3.0517578125e-05, -1.52587890625e-05, 0.0, -...   \n",
       "7384  [-0.0030975341796875, -0.0030975341796875, -0....   \n",
       "\n",
       "                                                 vggish  label_mapped  \n",
       "0     [172.0, 25.0, 179.0, 154.0, 204.0, 79.0, 104.0...             0  \n",
       "1     [182.0, 36.0, 195.0, 88.0, 196.0, 60.0, 115.0,...             0  \n",
       "2     [174.0, 26.0, 167.0, 139.0, 215.0, 80.0, 89.0,...             0  \n",
       "3     [180.0, 30.0, 185.0, 99.0, 217.0, 115.0, 137.0...             0  \n",
       "4     [174.0, 22.0, 177.0, 122.0, 197.0, 96.0, 105.0...             0  \n",
       "...                                                 ...           ...  \n",
       "7379  [173.0, 12.0, 156.0, 104.0, 214.0, 81.0, 99.0,...             2  \n",
       "7380  [169.0, 14.0, 141.0, 127.0, 199.0, 59.0, 79.0,...             2  \n",
       "7382  [171.0, 15.0, 163.0, 113.0, 197.0, 88.0, 107.0...             2  \n",
       "7383  [161.0, 0.0, 154.0, 132.0, 180.0, 66.0, 46.0, ...             2  \n",
       "7384  [171.0, 11.0, 148.0, 117.0, 191.0, 73.0, 117.0...             2  \n",
       "\n",
       "[5449 rows x 7 columns]"
      ]
     },
     "execution_count": 9,
     "metadata": {},
     "output_type": "execute_result"
    }
   ],
   "source": [
    "train"
   ]
  },
  {
   "cell_type": "code",
   "execution_count": 10,
   "metadata": {},
   "outputs": [],
   "source": [
    "x_train = train['audio'].to_numpy()\n",
    "y_train_hot = to_categorical(train['label_mapped'].to_numpy())\n",
    "\n",
    "x_test = test['audio'].to_numpy()\n",
    "y_test_hot = to_categorical(test['label_mapped'].to_numpy())"
   ]
  },
  {
   "cell_type": "code",
   "execution_count": 11,
   "metadata": {},
   "outputs": [],
   "source": [
    "import librosa"
   ]
  },
  {
   "cell_type": "code",
   "execution_count": 12,
   "metadata": {},
   "outputs": [],
   "source": [
    "X_train = []\n",
    "X_test = []\n",
    "for y in x_train:\n",
    "    X_train.append(librosa.power_to_db(librosa.feature.melspectrogram(y=y, sr=44100)))\n",
    "for y in x_test:\n",
    "    X_test.append(librosa.power_to_db(librosa.feature.melspectrogram(y=y, sr=44100)))"
   ]
  },
  {
   "cell_type": "code",
   "execution_count": 47,
   "metadata": {},
   "outputs": [
    {
     "data": {
      "text/plain": [
       "(128, 87)"
      ]
     },
     "execution_count": 47,
     "metadata": {},
     "output_type": "execute_result"
    }
   ],
   "source": [
    "X_train[0].shape"
   ]
  },
  {
   "cell_type": "code",
   "execution_count": 13,
   "metadata": {},
   "outputs": [],
   "source": [
    "X_train=np.array(X_train)\n",
    "X_test=np.array(X_test)\n",
    "\n",
    "X_train = X_train.reshape(X_train.shape[0], 128, 87, 1)\n",
    "X_test = X_test.reshape(X_test.shape[0], 128, 87, 1)\n",
    "\n",
    "X_train,y_train=shuffle(X_train,y_train_hot)\n",
    "X_test,y_test=shuffle(X_test,y_test_hot)"
   ]
  },
  {
   "cell_type": "code",
   "execution_count": 14,
   "metadata": {},
   "outputs": [
    {
     "data": {
      "text/plain": [
       "False"
      ]
     },
     "execution_count": 14,
     "metadata": {},
     "output_type": "execute_result"
    }
   ],
   "source": [
    "array=X_train\n",
    "array_sum = np.sum(array)\n",
    "np.isnan(array_sum)"
   ]
  },
  {
   "cell_type": "code",
   "execution_count": 24,
   "metadata": {},
   "outputs": [
    {
     "name": "stdout",
     "output_type": "stream",
     "text": [
      "Model: \"sequential_4\"\n",
      "_________________________________________________________________\n",
      "Layer (type)                 Output Shape              Param #   \n",
      "=================================================================\n",
      "conv2d_4 (Conv2D)            (None, 127, 86, 512)      2560      \n",
      "_________________________________________________________________\n",
      "max_pooling2d_4 (MaxPooling2 (None, 63, 43, 512)       0         \n",
      "_________________________________________________________________\n",
      "flatten_4 (Flatten)          (None, 1387008)           0         \n",
      "_________________________________________________________________\n",
      "dense_4 (Dense)              (None, 3)                 4161027   \n",
      "=================================================================\n",
      "Total params: 4,163,587\n",
      "Trainable params: 4,163,587\n",
      "Non-trainable params: 0\n",
      "_________________________________________________________________\n",
      "Epoch 1/50\n"
     ]
    }
   ],
   "source": [
    "# model\n",
    "model = Sequential()\n",
    "\n",
    "input_shape = (128, 87, 1)\n",
    "model.add(Conv2D(512, kernel_size=(2, 2), activation='relu', input_shape=input_shape))\n",
    "model.add(MaxPooling2D(pool_size=(2, 2)))\n",
    "# model.add(Conv2D(16, kernel_size=(2, 2), activation='relu', input_shape=(512,43,8)))\n",
    "# model.add(MaxPooling2D(pool_size=(2, 2)))\n",
    "# model.add(Dropout(0.25))\n",
    "model.add(Flatten())\n",
    "# model.add(Dense(128, activation='relu'))\n",
    "# model.add(Dropout(0.25))\n",
    "model.add(Dense(3, activation='softmax'))\n",
    "\n",
    "epochs=50\n",
    "batch_size=256\n",
    "lr = 0.00001\n",
    "model.compile(loss=keras.losses.categorical_crossentropy,\n",
    "              optimizer=keras.optimizers.Adam(learning_rate=lr),\n",
    "              metrics=['accuracy'])\n",
    "\n",
    "model.summary()\n",
    "\n",
    "\n",
    "\n",
    "# fit the model\n",
    "history=model.fit(X_train, y_train_hot,\n",
    "          batch_size=batch_size,\n",
    "          epochs=epochs,\n",
    "          verbose=1,\n",
    "          validation_data=(X_test, y_test_hot))\n",
    "\n",
    "training_loss=history.history['loss']\n",
    "validation_loss=history.history['val_loss']\n",
    "training_acc=history.history['accuracy']\n",
    "validation_acc=history.history['val_accuracy']\n",
    "import plotly.express as px\n",
    "from plotly.subplots import make_subplots\n",
    "# fig=px.line(training_loss)\n",
    "# fig.add_scatter(validation_loss, mode='lines')\n",
    "\n",
    "import pandas as pd\n",
    "df=pd.DataFrame()\n",
    "df['training_loss'] = training_loss\n",
    "df['validation_loss'] = validation_loss\n",
    "df['training_acc'] = training_acc\n",
    "df['validation_acc'] = validation_acc\n",
    "\n",
    "\n",
    "trace1 = go.Scatter(\n",
    "x=df.index,\n",
    "    y=df['training_loss'],\n",
    "    name='Training Loss'\n",
    ")\n",
    "trace2 = go.Scatter(\n",
    "    x=df.index,\n",
    "    y=df['validation_loss'],\n",
    "    name='Validation Loss'\n",
    ")\n",
    "trace3 = go.Scatter(\n",
    "    x=df.index,\n",
    "    y=df['training_acc'],\n",
    "    name='Training Accuracy',\n",
    "    yaxis='y2'\n",
    ")\n",
    "trace4 = go.Scatter(\n",
    "    x=df.index,\n",
    "    y=df['validation_acc'],\n",
    "    name='Validation Accuracy',\n",
    "    yaxis='y2'\n",
    ")\n",
    "\n",
    "fig = make_subplots(specs=[[{\"secondary_y\": True}]])\n",
    "fig.add_trace(trace1)\n",
    "fig.add_trace(trace2)\n",
    "fig.add_trace(trace3,secondary_y=True)\n",
    "fig.add_trace(trace4,secondary_y=True)\n",
    "fig.show()"
   ]
  },
  {
   "cell_type": "code",
   "execution_count": 20,
   "metadata": {},
   "outputs": [
    {
     "data": {
      "application/vnd.plotly.v1+json": {
       "config": {
        "plotlyServerURL": "https://plot.ly"
       },
       "data": [
        {
         "name": "Training Loss",
         "type": "scatter",
         "x": [
          0,
          1,
          2,
          3,
          4,
          5,
          6,
          7,
          8,
          9,
          10,
          11,
          12,
          13,
          14,
          15,
          16,
          17,
          18,
          19
         ],
         "y": [
          5.86226749420166,
          2.816626787185669,
          2.7300097942352295,
          2.2184226512908936,
          1.9257339239120483,
          1.6788949966430664,
          1.6397182941436768,
          1.5652406215667725,
          1.69789719581604,
          1.624088168144226,
          1.4673329591751099,
          1.4060568809509277,
          1.2968655824661255,
          1.4328503608703613,
          1.0874876976013184,
          1.1369255781173706,
          1.1622692346572876,
          1.1351802349090576,
          1.188035011291504,
          0.9749508500099182
         ]
        },
        {
         "name": "Validation Loss",
         "type": "scatter",
         "x": [
          0,
          1,
          2,
          3,
          4,
          5,
          6,
          7,
          8,
          9,
          10,
          11,
          12,
          13,
          14,
          15,
          16,
          17,
          18,
          19
         ],
         "y": [
          3.293999195098877,
          2.8006985187530518,
          2.6471753120422363,
          2.115669012069702,
          1.9774491786956787,
          2.2345049381256104,
          1.8291614055633545,
          2.849687099456787,
          2.296205520629883,
          2.4370219707489014,
          1.870821475982666,
          3.173604726791382,
          2.043510913848877,
          1.8621585369110107,
          2.3426742553710938,
          1.9370050430297852,
          1.7333219051361084,
          2.250009059906006,
          2.093540668487549,
          1.8316216468811035
         ]
        },
        {
         "name": "Training Accuracy",
         "type": "scatter",
         "x": [
          0,
          1,
          2,
          3,
          4,
          5,
          6,
          7,
          8,
          9,
          10,
          11,
          12,
          13,
          14,
          15,
          16,
          17,
          18,
          19
         ],
         "xaxis": "x",
         "y": [
          0.33694255352020264,
          0.35290879011154175,
          0.3703431785106659,
          0.3824554979801178,
          0.39750412106513977,
          0.4162231683731079,
          0.4327399432659149,
          0.45200952887535095,
          0.439713716506958,
          0.4542117714881897,
          0.48320794105529785,
          0.491833359003067,
          0.5065149664878845,
          0.503395140171051,
          0.5516608357429504,
          0.5408331751823425,
          0.5507432818412781,
          0.569095253944397,
          0.5545971989631653,
          0.6054322123527527
         ],
         "yaxis": "y2"
        },
        {
         "name": "Validation Accuracy",
         "type": "scatter",
         "x": [
          0,
          1,
          2,
          3,
          4,
          5,
          6,
          7,
          8,
          9,
          10,
          11,
          12,
          13,
          14,
          15,
          16,
          17,
          18,
          19
         ],
         "xaxis": "x",
         "y": [
          0.286009281873703,
          0.36396488547325134,
          0.3722250759601593,
          0.3665462136268616,
          0.3572534918785095,
          0.30924108624458313,
          0.3567372262477875,
          0.3670624792575836,
          0.2663913369178772,
          0.2720701992511749,
          0.3097573518753052,
          0.23954568803310394,
          0.3732576072216034,
          0.3381517827510834,
          0.3536396622657776,
          0.3861641585826874,
          0.3190500736236572,
          0.3753226697444916,
          0.38822922110557556,
          0.37274134159088135
         ],
         "yaxis": "y2"
        }
       ],
       "layout": {
        "template": {
         "data": {
          "bar": [
           {
            "error_x": {
             "color": "#2a3f5f"
            },
            "error_y": {
             "color": "#2a3f5f"
            },
            "marker": {
             "line": {
              "color": "#E5ECF6",
              "width": 0.5
             }
            },
            "type": "bar"
           }
          ],
          "barpolar": [
           {
            "marker": {
             "line": {
              "color": "#E5ECF6",
              "width": 0.5
             }
            },
            "type": "barpolar"
           }
          ],
          "carpet": [
           {
            "aaxis": {
             "endlinecolor": "#2a3f5f",
             "gridcolor": "white",
             "linecolor": "white",
             "minorgridcolor": "white",
             "startlinecolor": "#2a3f5f"
            },
            "baxis": {
             "endlinecolor": "#2a3f5f",
             "gridcolor": "white",
             "linecolor": "white",
             "minorgridcolor": "white",
             "startlinecolor": "#2a3f5f"
            },
            "type": "carpet"
           }
          ],
          "choropleth": [
           {
            "colorbar": {
             "outlinewidth": 0,
             "ticks": ""
            },
            "type": "choropleth"
           }
          ],
          "contour": [
           {
            "colorbar": {
             "outlinewidth": 0,
             "ticks": ""
            },
            "colorscale": [
             [
              0,
              "#0d0887"
             ],
             [
              0.1111111111111111,
              "#46039f"
             ],
             [
              0.2222222222222222,
              "#7201a8"
             ],
             [
              0.3333333333333333,
              "#9c179e"
             ],
             [
              0.4444444444444444,
              "#bd3786"
             ],
             [
              0.5555555555555556,
              "#d8576b"
             ],
             [
              0.6666666666666666,
              "#ed7953"
             ],
             [
              0.7777777777777778,
              "#fb9f3a"
             ],
             [
              0.8888888888888888,
              "#fdca26"
             ],
             [
              1,
              "#f0f921"
             ]
            ],
            "type": "contour"
           }
          ],
          "contourcarpet": [
           {
            "colorbar": {
             "outlinewidth": 0,
             "ticks": ""
            },
            "type": "contourcarpet"
           }
          ],
          "heatmap": [
           {
            "colorbar": {
             "outlinewidth": 0,
             "ticks": ""
            },
            "colorscale": [
             [
              0,
              "#0d0887"
             ],
             [
              0.1111111111111111,
              "#46039f"
             ],
             [
              0.2222222222222222,
              "#7201a8"
             ],
             [
              0.3333333333333333,
              "#9c179e"
             ],
             [
              0.4444444444444444,
              "#bd3786"
             ],
             [
              0.5555555555555556,
              "#d8576b"
             ],
             [
              0.6666666666666666,
              "#ed7953"
             ],
             [
              0.7777777777777778,
              "#fb9f3a"
             ],
             [
              0.8888888888888888,
              "#fdca26"
             ],
             [
              1,
              "#f0f921"
             ]
            ],
            "type": "heatmap"
           }
          ],
          "heatmapgl": [
           {
            "colorbar": {
             "outlinewidth": 0,
             "ticks": ""
            },
            "colorscale": [
             [
              0,
              "#0d0887"
             ],
             [
              0.1111111111111111,
              "#46039f"
             ],
             [
              0.2222222222222222,
              "#7201a8"
             ],
             [
              0.3333333333333333,
              "#9c179e"
             ],
             [
              0.4444444444444444,
              "#bd3786"
             ],
             [
              0.5555555555555556,
              "#d8576b"
             ],
             [
              0.6666666666666666,
              "#ed7953"
             ],
             [
              0.7777777777777778,
              "#fb9f3a"
             ],
             [
              0.8888888888888888,
              "#fdca26"
             ],
             [
              1,
              "#f0f921"
             ]
            ],
            "type": "heatmapgl"
           }
          ],
          "histogram": [
           {
            "marker": {
             "colorbar": {
              "outlinewidth": 0,
              "ticks": ""
             }
            },
            "type": "histogram"
           }
          ],
          "histogram2d": [
           {
            "colorbar": {
             "outlinewidth": 0,
             "ticks": ""
            },
            "colorscale": [
             [
              0,
              "#0d0887"
             ],
             [
              0.1111111111111111,
              "#46039f"
             ],
             [
              0.2222222222222222,
              "#7201a8"
             ],
             [
              0.3333333333333333,
              "#9c179e"
             ],
             [
              0.4444444444444444,
              "#bd3786"
             ],
             [
              0.5555555555555556,
              "#d8576b"
             ],
             [
              0.6666666666666666,
              "#ed7953"
             ],
             [
              0.7777777777777778,
              "#fb9f3a"
             ],
             [
              0.8888888888888888,
              "#fdca26"
             ],
             [
              1,
              "#f0f921"
             ]
            ],
            "type": "histogram2d"
           }
          ],
          "histogram2dcontour": [
           {
            "colorbar": {
             "outlinewidth": 0,
             "ticks": ""
            },
            "colorscale": [
             [
              0,
              "#0d0887"
             ],
             [
              0.1111111111111111,
              "#46039f"
             ],
             [
              0.2222222222222222,
              "#7201a8"
             ],
             [
              0.3333333333333333,
              "#9c179e"
             ],
             [
              0.4444444444444444,
              "#bd3786"
             ],
             [
              0.5555555555555556,
              "#d8576b"
             ],
             [
              0.6666666666666666,
              "#ed7953"
             ],
             [
              0.7777777777777778,
              "#fb9f3a"
             ],
             [
              0.8888888888888888,
              "#fdca26"
             ],
             [
              1,
              "#f0f921"
             ]
            ],
            "type": "histogram2dcontour"
           }
          ],
          "mesh3d": [
           {
            "colorbar": {
             "outlinewidth": 0,
             "ticks": ""
            },
            "type": "mesh3d"
           }
          ],
          "parcoords": [
           {
            "line": {
             "colorbar": {
              "outlinewidth": 0,
              "ticks": ""
             }
            },
            "type": "parcoords"
           }
          ],
          "pie": [
           {
            "automargin": true,
            "type": "pie"
           }
          ],
          "scatter": [
           {
            "marker": {
             "colorbar": {
              "outlinewidth": 0,
              "ticks": ""
             }
            },
            "type": "scatter"
           }
          ],
          "scatter3d": [
           {
            "line": {
             "colorbar": {
              "outlinewidth": 0,
              "ticks": ""
             }
            },
            "marker": {
             "colorbar": {
              "outlinewidth": 0,
              "ticks": ""
             }
            },
            "type": "scatter3d"
           }
          ],
          "scattercarpet": [
           {
            "marker": {
             "colorbar": {
              "outlinewidth": 0,
              "ticks": ""
             }
            },
            "type": "scattercarpet"
           }
          ],
          "scattergeo": [
           {
            "marker": {
             "colorbar": {
              "outlinewidth": 0,
              "ticks": ""
             }
            },
            "type": "scattergeo"
           }
          ],
          "scattergl": [
           {
            "marker": {
             "colorbar": {
              "outlinewidth": 0,
              "ticks": ""
             }
            },
            "type": "scattergl"
           }
          ],
          "scattermapbox": [
           {
            "marker": {
             "colorbar": {
              "outlinewidth": 0,
              "ticks": ""
             }
            },
            "type": "scattermapbox"
           }
          ],
          "scatterpolar": [
           {
            "marker": {
             "colorbar": {
              "outlinewidth": 0,
              "ticks": ""
             }
            },
            "type": "scatterpolar"
           }
          ],
          "scatterpolargl": [
           {
            "marker": {
             "colorbar": {
              "outlinewidth": 0,
              "ticks": ""
             }
            },
            "type": "scatterpolargl"
           }
          ],
          "scatterternary": [
           {
            "marker": {
             "colorbar": {
              "outlinewidth": 0,
              "ticks": ""
             }
            },
            "type": "scatterternary"
           }
          ],
          "surface": [
           {
            "colorbar": {
             "outlinewidth": 0,
             "ticks": ""
            },
            "colorscale": [
             [
              0,
              "#0d0887"
             ],
             [
              0.1111111111111111,
              "#46039f"
             ],
             [
              0.2222222222222222,
              "#7201a8"
             ],
             [
              0.3333333333333333,
              "#9c179e"
             ],
             [
              0.4444444444444444,
              "#bd3786"
             ],
             [
              0.5555555555555556,
              "#d8576b"
             ],
             [
              0.6666666666666666,
              "#ed7953"
             ],
             [
              0.7777777777777778,
              "#fb9f3a"
             ],
             [
              0.8888888888888888,
              "#fdca26"
             ],
             [
              1,
              "#f0f921"
             ]
            ],
            "type": "surface"
           }
          ],
          "table": [
           {
            "cells": {
             "fill": {
              "color": "#EBF0F8"
             },
             "line": {
              "color": "white"
             }
            },
            "header": {
             "fill": {
              "color": "#C8D4E3"
             },
             "line": {
              "color": "white"
             }
            },
            "type": "table"
           }
          ]
         },
         "layout": {
          "annotationdefaults": {
           "arrowcolor": "#2a3f5f",
           "arrowhead": 0,
           "arrowwidth": 1
          },
          "autotypenumbers": "strict",
          "coloraxis": {
           "colorbar": {
            "outlinewidth": 0,
            "ticks": ""
           }
          },
          "colorscale": {
           "diverging": [
            [
             0,
             "#8e0152"
            ],
            [
             0.1,
             "#c51b7d"
            ],
            [
             0.2,
             "#de77ae"
            ],
            [
             0.3,
             "#f1b6da"
            ],
            [
             0.4,
             "#fde0ef"
            ],
            [
             0.5,
             "#f7f7f7"
            ],
            [
             0.6,
             "#e6f5d0"
            ],
            [
             0.7,
             "#b8e186"
            ],
            [
             0.8,
             "#7fbc41"
            ],
            [
             0.9,
             "#4d9221"
            ],
            [
             1,
             "#276419"
            ]
           ],
           "sequential": [
            [
             0,
             "#0d0887"
            ],
            [
             0.1111111111111111,
             "#46039f"
            ],
            [
             0.2222222222222222,
             "#7201a8"
            ],
            [
             0.3333333333333333,
             "#9c179e"
            ],
            [
             0.4444444444444444,
             "#bd3786"
            ],
            [
             0.5555555555555556,
             "#d8576b"
            ],
            [
             0.6666666666666666,
             "#ed7953"
            ],
            [
             0.7777777777777778,
             "#fb9f3a"
            ],
            [
             0.8888888888888888,
             "#fdca26"
            ],
            [
             1,
             "#f0f921"
            ]
           ],
           "sequentialminus": [
            [
             0,
             "#0d0887"
            ],
            [
             0.1111111111111111,
             "#46039f"
            ],
            [
             0.2222222222222222,
             "#7201a8"
            ],
            [
             0.3333333333333333,
             "#9c179e"
            ],
            [
             0.4444444444444444,
             "#bd3786"
            ],
            [
             0.5555555555555556,
             "#d8576b"
            ],
            [
             0.6666666666666666,
             "#ed7953"
            ],
            [
             0.7777777777777778,
             "#fb9f3a"
            ],
            [
             0.8888888888888888,
             "#fdca26"
            ],
            [
             1,
             "#f0f921"
            ]
           ]
          },
          "colorway": [
           "#636efa",
           "#EF553B",
           "#00cc96",
           "#ab63fa",
           "#FFA15A",
           "#19d3f3",
           "#FF6692",
           "#B6E880",
           "#FF97FF",
           "#FECB52"
          ],
          "font": {
           "color": "#2a3f5f"
          },
          "geo": {
           "bgcolor": "white",
           "lakecolor": "white",
           "landcolor": "#E5ECF6",
           "showlakes": true,
           "showland": true,
           "subunitcolor": "white"
          },
          "hoverlabel": {
           "align": "left"
          },
          "hovermode": "closest",
          "mapbox": {
           "style": "light"
          },
          "paper_bgcolor": "white",
          "plot_bgcolor": "#E5ECF6",
          "polar": {
           "angularaxis": {
            "gridcolor": "white",
            "linecolor": "white",
            "ticks": ""
           },
           "bgcolor": "#E5ECF6",
           "radialaxis": {
            "gridcolor": "white",
            "linecolor": "white",
            "ticks": ""
           }
          },
          "scene": {
           "xaxis": {
            "backgroundcolor": "#E5ECF6",
            "gridcolor": "white",
            "gridwidth": 2,
            "linecolor": "white",
            "showbackground": true,
            "ticks": "",
            "zerolinecolor": "white"
           },
           "yaxis": {
            "backgroundcolor": "#E5ECF6",
            "gridcolor": "white",
            "gridwidth": 2,
            "linecolor": "white",
            "showbackground": true,
            "ticks": "",
            "zerolinecolor": "white"
           },
           "zaxis": {
            "backgroundcolor": "#E5ECF6",
            "gridcolor": "white",
            "gridwidth": 2,
            "linecolor": "white",
            "showbackground": true,
            "ticks": "",
            "zerolinecolor": "white"
           }
          },
          "shapedefaults": {
           "line": {
            "color": "#2a3f5f"
           }
          },
          "ternary": {
           "aaxis": {
            "gridcolor": "white",
            "linecolor": "white",
            "ticks": ""
           },
           "baxis": {
            "gridcolor": "white",
            "linecolor": "white",
            "ticks": ""
           },
           "bgcolor": "#E5ECF6",
           "caxis": {
            "gridcolor": "white",
            "linecolor": "white",
            "ticks": ""
           }
          },
          "title": {
           "x": 0.05
          },
          "xaxis": {
           "automargin": true,
           "gridcolor": "white",
           "linecolor": "white",
           "ticks": "",
           "title": {
            "standoff": 15
           },
           "zerolinecolor": "white",
           "zerolinewidth": 2
          },
          "yaxis": {
           "automargin": true,
           "gridcolor": "white",
           "linecolor": "white",
           "ticks": "",
           "title": {
            "standoff": 15
           },
           "zerolinecolor": "white",
           "zerolinewidth": 2
          }
         }
        },
        "xaxis": {
         "anchor": "y",
         "domain": [
          0,
          0.94
         ]
        },
        "yaxis": {
         "anchor": "x",
         "domain": [
          0,
          1
         ]
        },
        "yaxis2": {
         "anchor": "x",
         "overlaying": "y",
         "side": "right"
        }
       }
      }
     },
     "metadata": {},
     "output_type": "display_data"
    }
   ],
   "source": [
    "training_loss=history.history['loss']\n",
    "validation_loss=history.history['val_loss']\n",
    "training_acc=history.history['accuracy']\n",
    "validation_acc=history.history['val_accuracy']\n",
    "import plotly.express as px\n",
    "from plotly.subplots import make_subplots\n",
    "# fig=px.line(training_loss)\n",
    "# fig.add_scatter(validation_loss, mode='lines')\n",
    "\n",
    "import pandas as pd\n",
    "df=pd.DataFrame()\n",
    "df['training_loss'] = training_loss\n",
    "df['validation_loss'] = validation_loss\n",
    "df['training_acc'] = training_acc\n",
    "df['validation_acc'] = validation_acc\n",
    "\n",
    "\n",
    "trace1 = go.Scatter(\n",
    "x=df.index,\n",
    "    y=df['training_loss'],\n",
    "    name='Training Loss'\n",
    ")\n",
    "trace2 = go.Scatter(\n",
    "    x=df.index,\n",
    "    y=df['validation_loss'],\n",
    "    name='Validation Loss'\n",
    ")\n",
    "trace3 = go.Scatter(\n",
    "    x=df.index,\n",
    "    y=df['training_acc'],\n",
    "    name='Training Accuracy',\n",
    "    yaxis='y2'\n",
    ")\n",
    "trace4 = go.Scatter(\n",
    "    x=df.index,\n",
    "    y=df['validation_acc'],\n",
    "    name='Validation Accuracy',\n",
    "    yaxis='y2'\n",
    ")\n",
    "\n",
    "fig = make_subplots(specs=[[{\"secondary_y\": True}]])\n",
    "fig.add_trace(trace1)\n",
    "fig.add_trace(trace2)\n",
    "fig.add_trace(trace3,secondary_y=True)\n",
    "fig.add_trace(trace4,secondary_y=True)\n",
    "fig.show()"
   ]
  },
  {
   "cell_type": "markdown",
   "metadata": {},
   "source": [
    "# Mel spectrogram"
   ]
  },
  {
   "cell_type": "code",
   "execution_count": null,
   "metadata": {},
   "outputs": [],
   "source": [
    "# model\n",
    "model = Sequential()\n",
    "\n",
    "input_shape = (128, 87, 1)\n",
    "model.add(Conv2D(16, kernel_size=(2, 2), activation='relu', input_shape=input_shape))\n",
    "model.add(MaxPooling2D(pool_size=(2, 2)))\n",
    "# model.add(Conv2D(16, kernel_size=(2, 2), activation='relu', input_shape=(512,43,8)))\n",
    "# model.add(MaxPooling2D(pool_size=(2, 2)))\n",
    "# model.add(Dropout(0.25))\n",
    "model.add(Flatten())\n",
    "# model.add(Dense(128, activation='relu'))\n",
    "# model.add(Dropout(0.25))\n",
    "model.add(Dense(6, activation='softmax'))\n",
    "model.compile(loss=keras.losses.categorical_crossentropy,\n",
    "              optimizer=keras.optimizers.Adadelta(),\n",
    "              metrics=['accuracy'])\n",
    "\n",
    "model.summary()\n",
    "\n",
    "model.compile(loss=keras.losses.categorical_crossentropy,\n",
    "              optimizer=keras.optimizers.Adadelta(),\n",
    "              metrics=['accuracy'])\n",
    "epochs=10\n",
    "batch_size=128\n",
    "# fit the model\n",
    "model.fit(np.array(X_train), y_train_hot,\n",
    "          batch_size=batch_size,\n",
    "          epochs=epochs,\n",
    "          verbose=1,\n",
    "          validation_data=(X_test, y_test_hot))"
   ]
  }
 ],
 "metadata": {
  "interpreter": {
   "hash": "aa1ed07f7c130b96037f0156f068c250f39d8bb798ad1f62609d91fc8833d6fd"
  },
  "kernelspec": {
   "display_name": "Python 3.9.5 64-bit ('scream_detection': venv)",
   "name": "python3"
  },
  "language_info": {
   "codemirror_mode": {
    "name": "ipython",
    "version": 3
   },
   "file_extension": ".py",
   "mimetype": "text/x-python",
   "name": "python",
   "nbconvert_exporter": "python",
   "pygments_lexer": "ipython3",
   "version": "3.9.7"
  },
  "orig_nbformat": 4
 },
 "nbformat": 4,
 "nbformat_minor": 2
}
