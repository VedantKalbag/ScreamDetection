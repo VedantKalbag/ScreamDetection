{
 "cells": [
  {
   "cell_type": "markdown",
   "source": [
    "# Imports"
   ],
   "metadata": {}
  },
  {
   "cell_type": "code",
   "execution_count": 55,
   "source": [
    "import os\n",
    "import pandas as pd\n",
    "import librosa\n",
    "import numpy as np\n",
    "import math\n",
    "import scipy.io.wavfile, scipy.signal\n",
    "from scipy.spatial import distance\n",
    "#from sklearn.discriminant_analysis import LinearDiscriminantAnalysis\n",
    "from sklearn.neighbors import KNeighborsClassifier\n",
    "#from sklearn.naive_bayes import GaussianNB\n",
    "#from sklearn.tree import DecisionTreeClassifier\n",
    "#from sklearn.svm import SVC\n",
    "\n",
    "from sklearn.metrics import classification_report\n",
    "from sklearn.metrics import confusion_matrix\n",
    "from sklearn.metrics import accuracy_score\n"
   ],
   "outputs": [],
   "metadata": {}
  },
  {
   "cell_type": "markdown",
   "source": [
    "# Pre-Processing Data\n",
    "- Load Ground Truth from annotation.csv at 44.1kHz\n",
    "- Load audio files for each song\n",
    "    1. Average L+R to convert to mono audio\n",
    "    2. Divide into 5 second windows with 1 second hop\\\n",
    "    3. Label each hop based on whether its midpoint is within the start and end times annotated "
   ],
   "metadata": {}
  },
  {
   "cell_type": "code",
   "execution_count": 8,
   "source": [
    "# BLOCK AUDIO\n",
    "def block_audio(x,blockSize,hopSize,fs):    \n",
    "    # allocate memory    \n",
    "    numBlocks = math.ceil(x.size / hopSize)    \n",
    "    xb = np.zeros([numBlocks, blockSize])    \n",
    "    # compute time stamps    \n",
    "    t = (np.arange(0, numBlocks) * hopSize) / fs   \n",
    "    t_mid = t + (0.5*blockSize/fs)\n",
    "    x = np.concatenate((x, np.zeros(blockSize)),axis=0)    \n",
    "    for n in range(0, numBlocks):        \n",
    "        i_start = n * hopSize        \n",
    "        i_stop = np.min([x.size - 1, i_start + blockSize - 1])        \n",
    "        xb[n][np.arange(0,blockSize)] = x[np.arange(i_start, i_stop + 1)]    \n",
    "    return (xb,t,t_mid)\n"
   ],
   "outputs": [],
   "metadata": {}
  },
  {
   "cell_type": "code",
   "execution_count": 9,
   "source": [
    "video_id = '_duhhVa-dk8'"
   ],
   "outputs": [],
   "metadata": {}
  },
  {
   "cell_type": "code",
   "execution_count": 10,
   "source": [
    "x,sr = librosa.load('./resources/dataset/Audio/processed/'+video_id+'.wav',sr=44100,mono=True)#scipy.io.wavfile.read('./resources/dataset/Audio/processed/'+file_name)"
   ],
   "outputs": [],
   "metadata": {}
  },
  {
   "cell_type": "code",
   "execution_count": 11,
   "source": [
    "blockSize = int(sr * 1)\n",
    "hopSize = int(sr * 0.5)\n",
    "\n",
    "xb,t,t_mid = block_audio(x,blockSize,hopSize,sr)"
   ],
   "outputs": [],
   "metadata": {}
  },
  {
   "cell_type": "code",
   "execution_count": 12,
   "source": [
    "lut=pd.read_csv('./resources/dataset/Annotations/final/annotation.csv')"
   ],
   "outputs": [],
   "metadata": {}
  },
  {
   "cell_type": "code",
   "execution_count": 13,
   "source": [
    "# Testing logic for labelling data based on ground truth\n",
    "\n",
    "blocks = t_mid.size\n",
    "i=0\n",
    "\n",
    "for ts in t_mid:\n",
    "    for idx,row in lut[lut['video_id'] == video_id].reset_index().iterrows():\n",
    "        annotated_start = row['timestamp_start']\n",
    "        annotated_end = row['timestamp_end']\n",
    "        if annotated_start <= ts <= annotated_end:\n",
    "            #print(f\"ts - {ts}, start - {annotated_start} and end - {annotated_end}\")\n",
    "            i+=1\n",
    "            break\n",
    "    if ~(annotated_start <= ts <= annotated_end):\n",
    "        i+=1         \n"
   ],
   "outputs": [],
   "metadata": {}
  },
  {
   "cell_type": "markdown",
   "source": [
    "Below paragraph takes about 282 s"
   ],
   "metadata": {}
  },
  {
   "cell_type": "code",
   "execution_count": 14,
   "source": [
    "lut=pd.read_csv('./resources/dataset/Annotations/final/annotation.csv')\n",
    "i=0\n",
    "for video_id in lut['video_id'].unique():\n",
    "    x,sr = librosa.load('./resources/dataset/Audio/processed/'+video_id+'.wav',sr=44100,mono=True)\n",
    "    blockSize = int(sr * 1)\n",
    "    hopSize = int(sr * 0.5)\n",
    "\n",
    "    xb,t,t_mid = block_audio(x,blockSize,hopSize,sr)\n",
    "    labels=[]\n",
    "    for ts in t_mid:\n",
    "        for idx,row in lut[lut['video_id'] == video_id].reset_index().iterrows():\n",
    "            annotated_start = row['timestamp_start']\n",
    "            annotated_end = row['timestamp_end']\n",
    "            if annotated_start <= ts <= annotated_end:\n",
    "                labels.append(row['scream_type'])\n",
    "                break\n",
    "        if ~(annotated_start <= ts <= annotated_end):\n",
    "            labels.append('no_vocals')\n",
    "    # Create new dataframs\n",
    "    if i == 0:\n",
    "        df=pd.DataFrame()\n",
    "\n",
    "        df['t'] = t\n",
    "        df['t_mid'] = t_mid\n",
    "        blocks=[]\n",
    "        for blk in xb:\n",
    "            blocks.append(blk)\n",
    "        df.insert(0,'video_id',video_id)\n",
    "        df.insert(3,'label',labels)\n",
    "        df['xb'] = blocks\n",
    "        i+=1\n",
    "    else:\n",
    "        tmp=pd.DataFrame()\n",
    "        tmp['t'] = t\n",
    "        tmp['t_mid'] = t_mid\n",
    "        blocks=[]\n",
    "        for blk in xb:\n",
    "            blocks.append(blk)\n",
    "        tmp['video_id'] = video_id\n",
    "        tmp['label'] = labels\n",
    "        tmp['xb'] = blocks\n",
    "        df=df.append(tmp)\n",
    "out = df.to_numpy()\n",
    "np.save('./resources/working_data/data.npy', out)\n",
    "    #df.to_csv('./resources/working_data/'+video_id+'.csv',header=True, index=False,encoding='utf-8-sig',sep='\\t')\n"
   ],
   "outputs": [],
   "metadata": {}
  },
  {
   "cell_type": "markdown",
   "source": [
    "# Extract Features\n",
    "## 13 delta_mfccs, ZCR, Spectral Crest, Spectral Centroid\n",
    "- Normalize the features across the entire dataset\n",
    "- Extract mean, std dev of the feature value per block \n",
    "- Calculate change in feature from one block to another\n"
   ],
   "metadata": {}
  },
  {
   "cell_type": "code",
   "execution_count": 59,
   "source": [
    "def agg_mfccs(x):\n",
    "    mfccs = librosa.feature.mfcc(x,n_mfcc = 13)\n",
    "    mean = [np.mean(feature) for feature in mfccs]\n",
    "    std = [np.std(feature) for feature in mfccs]\n",
    "    mfcc_delta = librosa.feature.delta(mfccs)\n",
    "    delta_mean=[np.mean(feature) for feature in mfcc_delta]\n",
    "    delta_std=[np.std(feature) for feature in mfcc_delta]\n",
    "    return mean,std,delta_mean,delta_std"
   ],
   "outputs": [],
   "metadata": {}
  },
  {
   "cell_type": "code",
   "execution_count": 65,
   "source": [
    "def extract_features(x):\n",
    "    #MFCCs\n",
    "    mfcc_mean,mfcc_std,delta_mfcc_mean,delta_mfcc_std = agg_mfccs(x)\n",
    "    #ZCR\n",
    "    zcr=librosa.feature.zero_crossing_rate(x)\n",
    "\n",
    "\n",
    "    \n",
    "    return mfcc_mean,mfcc_std,delta_mfcc_mean,delta_mfcc_std,zcr"
   ],
   "outputs": [],
   "metadata": {}
  },
  {
   "cell_type": "markdown",
   "source": [
    "Below paragraph takes about 420 s"
   ],
   "metadata": {}
  },
  {
   "cell_type": "code",
   "execution_count": 61,
   "source": [
    "df['zcr'] = ''\n",
    "df['average_zcr'] = ''\n",
    "df['zcr_stddev'] = ''\n",
    "\n",
    "#df['mfccs'] = ''\n",
    "df['mfcc_mean'] = ''\n",
    "df['mfcc_std'] = ''\n",
    "\n",
    "df['delta_mfcc_mean'] = ''\n",
    "df['delta_mfcc_std'] = ''\n",
    "\n",
    "for i in range(len(df)):\n",
    "    # Calculate ZCR (3 features)\n",
    "    zcr=librosa.feature.zero_crossing_rate(df['audio'][i])\n",
    "    df['zcr'][i] = zcr\n",
    "    df['average_zcr'][i] = np.mean(zcr)\n",
    "    df['zcr_stddev'][i] = np.std(zcr)\n",
    "\n",
    "    # Extract 13 MFCCs - get mean and std deviation for each (26 features) + Delta MFCCs (26 features) = total 52 Features\n",
    "    mean,std,delta_mean,delta_std = agg_mfccs(df['audio'][i])\n",
    "    #df['mfccs'][i] = mfccs[0]\n",
    "    df['mfcc_mean'][i] = mean\n",
    "    df['mfcc_std'][i] = std\n",
    "\n",
    "    df['delta_mfcc_mean'][i] = delta_mean\n",
    "    df['delta_mfcc_std'][i] = delta_std\n",
    "\n",
    "# Find change in MFCC from one block to another (group by video_id)\n"
   ],
   "outputs": [],
   "metadata": {}
  },
  {
   "cell_type": "code",
   "execution_count": 62,
   "source": [
    "df[['mfcc1_mean','mfcc2_mean','mfcc3_mean','mfcc4_mean','mfcc5_mean','mfcc6_mean','mfcc7_mean','mfcc8_mean','mfcc9_mean','mfcc10_mean','mfcc11_mean','mfcc12_mean','mfcc13_mean']]=pd.DataFrame(df.mfcc_mean.tolist(), index= df.index)\n",
    "df[['mfcc1_std','mfcc2_std','mfcc3_std','mfcc4_std','mfcc5_std','mfcc6_std','mfcc7_std','mfcc8_std','mfcc9_std','mfcc10_std','mfcc11_std','mfcc12_std','mfcc13_std']]=pd.DataFrame(df.mfcc_std.tolist(), index= df.index)\n",
    "\n",
    "df[['delta_mfcc1_mean','delta_mfcc2_mean','delta_mfcc3_mean','delta_mfcc4_mean','delta_mfcc5_mean','delta_mfcc6_mean','delta_mfcc7_mean','delta_mfcc8_mean','delta_mfcc9_mean','delta_mfcc10_mean','delta_mfcc11_mean','delta_mfcc12_mean','delta_mfcc13_mean']]=pd.DataFrame(df.delta_mfcc_mean.tolist(), index= df.index)\n",
    "df[['delta_mfcc1_std','delta_mfcc2_std','delta_mfcc3_std','delta_mfcc4_std','delta_mfcc5_std','delta_mfcc6_std','delta_mfcc7_std','delta_mfcc8_std','delta_mfcc9_std','delta_mfcc10_std','delta_mfcc11_std','delta_mfcc12_std','delta_mfcc13_std']]=pd.DataFrame(df.delta_mfcc_std.tolist(), index= df.index)"
   ],
   "outputs": [],
   "metadata": {}
  },
  {
   "cell_type": "markdown",
   "source": [
    "## Normalize features"
   ],
   "metadata": {}
  },
  {
   "cell_type": "code",
   "execution_count": 57,
   "source": [
    "cols = ['average_zcr',\n",
    "       'zcr_stddev', 'mfcc1_mean', 'mfcc2_mean', 'mfcc3_mean',\n",
    "       'mfcc4_mean', 'mfcc5_mean', 'mfcc6_mean', 'mfcc7_mean', 'mfcc8_mean',\n",
    "       'mfcc9_mean', 'mfcc10_mean', 'mfcc11_mean', 'mfcc12_mean',\n",
    "       'mfcc13_mean', 'mfcc1_std', 'mfcc2_std', 'mfcc3_std', 'mfcc4_std',\n",
    "       'mfcc5_std', 'mfcc6_std', 'mfcc7_std', 'mfcc8_std', 'mfcc9_std',\n",
    "       'mfcc10_std', 'mfcc11_std', 'mfcc12_std', 'mfcc13_std',\n",
    "       'delta_mfcc1_mean', 'delta_mfcc2_mean', 'delta_mfcc3_mean',\n",
    "       'delta_mfcc4_mean', 'delta_mfcc5_mean', 'delta_mfcc6_mean',\n",
    "       'delta_mfcc7_mean', 'delta_mfcc8_mean', 'delta_mfcc9_mean',\n",
    "       'delta_mfcc10_mean', 'delta_mfcc11_mean', 'delta_mfcc12_mean',\n",
    "       'delta_mfcc13_mean', 'delta_mfcc1_std', 'delta_mfcc2_std',\n",
    "       'delta_mfcc3_std', 'delta_mfcc4_std', 'delta_mfcc5_std',\n",
    "       'delta_mfcc6_std', 'delta_mfcc7_std', 'delta_mfcc8_std',\n",
    "       'delta_mfcc9_std', 'delta_mfcc10_std', 'delta_mfcc11_std',\n",
    "       'delta_mfcc12_std', 'delta_mfcc13_std']\n",
    "\n",
    "for col in cols:\n",
    "    df[col] = df[col]/max(np.abs(df[col]))"
   ],
   "outputs": [],
   "metadata": {}
  },
  {
   "cell_type": "code",
   "execution_count": 63,
   "source": [
    "df.columns"
   ],
   "outputs": [
    {
     "output_type": "execute_result",
     "data": {
      "text/plain": [
       "Index(['video_id', 'ts', 'mid_ts', 'label', 'audio', 'zcr', 'average_zcr',\n",
       "       'zcr_stddev', 'mfcc_mean', 'mfcc_std', 'delta_mfcc_mean',\n",
       "       'delta_mfcc_std', 'mfcc1_mean', 'mfcc2_mean', 'mfcc3_mean',\n",
       "       'mfcc4_mean', 'mfcc5_mean', 'mfcc6_mean', 'mfcc7_mean', 'mfcc8_mean',\n",
       "       'mfcc9_mean', 'mfcc10_mean', 'mfcc11_mean', 'mfcc12_mean',\n",
       "       'mfcc13_mean', 'mfcc1_std', 'mfcc2_std', 'mfcc3_std', 'mfcc4_std',\n",
       "       'mfcc5_std', 'mfcc6_std', 'mfcc7_std', 'mfcc8_std', 'mfcc9_std',\n",
       "       'mfcc10_std', 'mfcc11_std', 'mfcc12_std', 'mfcc13_std',\n",
       "       'delta_mfcc1_mean', 'delta_mfcc2_mean', 'delta_mfcc3_mean',\n",
       "       'delta_mfcc4_mean', 'delta_mfcc5_mean', 'delta_mfcc6_mean',\n",
       "       'delta_mfcc7_mean', 'delta_mfcc8_mean', 'delta_mfcc9_mean',\n",
       "       'delta_mfcc10_mean', 'delta_mfcc11_mean', 'delta_mfcc12_mean',\n",
       "       'delta_mfcc13_mean', 'delta_mfcc1_std', 'delta_mfcc2_std',\n",
       "       'delta_mfcc3_std', 'delta_mfcc4_std', 'delta_mfcc5_std',\n",
       "       'delta_mfcc6_std', 'delta_mfcc7_std', 'delta_mfcc8_std',\n",
       "       'delta_mfcc9_std', 'delta_mfcc10_std', 'delta_mfcc11_std',\n",
       "       'delta_mfcc12_std', 'delta_mfcc13_std'],\n",
       "      dtype='object')"
      ]
     },
     "metadata": {},
     "execution_count": 63
    }
   ],
   "metadata": {}
  },
  {
   "cell_type": "code",
   "execution_count": 37,
   "source": [
    "df"
   ],
   "outputs": [
    {
     "output_type": "execute_result",
     "data": {
      "text/html": [
       "<div>\n",
       "<style scoped>\n",
       "    .dataframe tbody tr th:only-of-type {\n",
       "        vertical-align: middle;\n",
       "    }\n",
       "\n",
       "    .dataframe tbody tr th {\n",
       "        vertical-align: top;\n",
       "    }\n",
       "\n",
       "    .dataframe thead th {\n",
       "        text-align: right;\n",
       "    }\n",
       "</style>\n",
       "<table border=\"1\" class=\"dataframe\">\n",
       "  <thead>\n",
       "    <tr style=\"text-align: right;\">\n",
       "      <th></th>\n",
       "      <th>video_id</th>\n",
       "      <th>ts</th>\n",
       "      <th>mid_ts</th>\n",
       "      <th>label</th>\n",
       "      <th>audio</th>\n",
       "      <th>zcr</th>\n",
       "      <th>average_zcr</th>\n",
       "      <th>zcr_stddev</th>\n",
       "      <th>mfcc_mean</th>\n",
       "      <th>mfcc_std</th>\n",
       "      <th>...</th>\n",
       "      <th>delta_mfcc4_std</th>\n",
       "      <th>delta_mfcc5_std</th>\n",
       "      <th>delta_mfcc6_std</th>\n",
       "      <th>delta_mfcc7_std</th>\n",
       "      <th>delta_mfcc8_std</th>\n",
       "      <th>delta_mfcc9_std</th>\n",
       "      <th>delta_mfcc10_std</th>\n",
       "      <th>delta_mfcc11_std</th>\n",
       "      <th>delta_mfcc12_std</th>\n",
       "      <th>delta_mfcc13_std</th>\n",
       "    </tr>\n",
       "  </thead>\n",
       "  <tbody>\n",
       "    <tr>\n",
       "      <th>0</th>\n",
       "      <td>4600fGWcn9o</td>\n",
       "      <td>0.0</td>\n",
       "      <td>0.5</td>\n",
       "      <td>no_vocals</td>\n",
       "      <td>[0.0, 0.0, 0.0, 0.0, 0.0, 0.0, 0.0, 0.0, 0.0, ...</td>\n",
       "      <td>[[0.0, 0.0029296875, 0.03466796875, 0.0625, 0....</td>\n",
       "      <td>0.095039</td>\n",
       "      <td>0.11232</td>\n",
       "      <td>[-129.30442472392588, 120.84185637231003, -42....</td>\n",
       "      <td>[153.86292168258274, 51.389458611989106, 24.00...</td>\n",
       "      <td>...</td>\n",
       "      <td>0.378322</td>\n",
       "      <td>0.362442</td>\n",
       "      <td>0.255812</td>\n",
       "      <td>0.216369</td>\n",
       "      <td>0.197342</td>\n",
       "      <td>0.270354</td>\n",
       "      <td>0.256349</td>\n",
       "      <td>0.17529</td>\n",
       "      <td>0.240528</td>\n",
       "      <td>0.429757</td>\n",
       "    </tr>\n",
       "    <tr>\n",
       "      <th>1</th>\n",
       "      <td>4600fGWcn9o</td>\n",
       "      <td>0.5</td>\n",
       "      <td>1.0</td>\n",
       "      <td>no_vocals</td>\n",
       "      <td>[0.6896209716796875, 0.7178192138671875, 0.738...</td>\n",
       "      <td>[[0.001953125, 0.00732421875, 0.01220703125, 0...</td>\n",
       "      <td>0.030553</td>\n",
       "      <td>0.024637</td>\n",
       "      <td>[-111.62375869978057, 148.0224260673816, -44.4...</td>\n",
       "      <td>[44.227963654699344, 19.079967098386888, 16.58...</td>\n",
       "      <td>...</td>\n",
       "      <td>0.246632</td>\n",
       "      <td>0.260994</td>\n",
       "      <td>0.231468</td>\n",
       "      <td>0.192004</td>\n",
       "      <td>0.194783</td>\n",
       "      <td>0.273414</td>\n",
       "      <td>0.291844</td>\n",
       "      <td>0.168888</td>\n",
       "      <td>0.195023</td>\n",
       "      <td>0.423875</td>\n",
       "    </tr>\n",
       "    <tr>\n",
       "      <th>2</th>\n",
       "      <td>4600fGWcn9o</td>\n",
       "      <td>1.0</td>\n",
       "      <td>1.5</td>\n",
       "      <td>no_vocals</td>\n",
       "      <td>[0.10858154296875, 0.0853118896484375, 0.02359...</td>\n",
       "      <td>[[0.0087890625, 0.01123046875, 0.013671875, 0....</td>\n",
       "      <td>0.061321</td>\n",
       "      <td>0.086889</td>\n",
       "      <td>[-90.45160174337661, 151.44191500944592, -48.0...</td>\n",
       "      <td>[59.2113875017919, 21.34803042085795, 17.82077...</td>\n",
       "      <td>...</td>\n",
       "      <td>0.238022</td>\n",
       "      <td>0.369578</td>\n",
       "      <td>0.295717</td>\n",
       "      <td>0.230257</td>\n",
       "      <td>0.211923</td>\n",
       "      <td>0.384199</td>\n",
       "      <td>0.33963</td>\n",
       "      <td>0.172804</td>\n",
       "      <td>0.233265</td>\n",
       "      <td>0.369526</td>\n",
       "    </tr>\n",
       "    <tr>\n",
       "      <th>3</th>\n",
       "      <td>4600fGWcn9o</td>\n",
       "      <td>1.5</td>\n",
       "      <td>2.0</td>\n",
       "      <td>no_vocals</td>\n",
       "      <td>[0.0962982177734375, 0.0923919677734375, 0.083...</td>\n",
       "      <td>[[0.00732421875, 0.01318359375, 0.02734375, 0....</td>\n",
       "      <td>0.103292</td>\n",
       "      <td>0.073054</td>\n",
       "      <td>[-40.750934579140804, 151.8890810594238, -59.9...</td>\n",
       "      <td>[43.66095542689978, 17.427200032963146, 12.853...</td>\n",
       "      <td>...</td>\n",
       "      <td>0.181022</td>\n",
       "      <td>0.313454</td>\n",
       "      <td>0.240912</td>\n",
       "      <td>0.174939</td>\n",
       "      <td>0.24846</td>\n",
       "      <td>0.355483</td>\n",
       "      <td>0.318322</td>\n",
       "      <td>0.203571</td>\n",
       "      <td>0.27357</td>\n",
       "      <td>0.256327</td>\n",
       "    </tr>\n",
       "    <tr>\n",
       "      <th>4</th>\n",
       "      <td>4600fGWcn9o</td>\n",
       "      <td>2.0</td>\n",
       "      <td>2.5</td>\n",
       "      <td>no_vocals</td>\n",
       "      <td>[0.5100250244140625, 0.488677978515625, 0.4525...</td>\n",
       "      <td>[[0.0146484375, 0.02587890625, 0.03515625, 0.0...</td>\n",
       "      <td>0.110753</td>\n",
       "      <td>0.042473</td>\n",
       "      <td>[-27.540076624559322, 159.0698455536097, -66.0...</td>\n",
       "      <td>[14.19266859603115, 10.165987966773274, 5.5215...</td>\n",
       "      <td>...</td>\n",
       "      <td>0.172422</td>\n",
       "      <td>0.128003</td>\n",
       "      <td>0.13986</td>\n",
       "      <td>0.124283</td>\n",
       "      <td>0.242181</td>\n",
       "      <td>0.2392</td>\n",
       "      <td>0.353877</td>\n",
       "      <td>0.214575</td>\n",
       "      <td>0.241836</td>\n",
       "      <td>0.275868</td>\n",
       "    </tr>\n",
       "    <tr>\n",
       "      <th>...</th>\n",
       "      <td>...</td>\n",
       "      <td>...</td>\n",
       "      <td>...</td>\n",
       "      <td>...</td>\n",
       "      <td>...</td>\n",
       "      <td>...</td>\n",
       "      <td>...</td>\n",
       "      <td>...</td>\n",
       "      <td>...</td>\n",
       "      <td>...</td>\n",
       "      <td>...</td>\n",
       "      <td>...</td>\n",
       "      <td>...</td>\n",
       "      <td>...</td>\n",
       "      <td>...</td>\n",
       "      <td>...</td>\n",
       "      <td>...</td>\n",
       "      <td>...</td>\n",
       "      <td>...</td>\n",
       "      <td>...</td>\n",
       "      <td>...</td>\n",
       "    </tr>\n",
       "    <tr>\n",
       "      <th>33815</th>\n",
       "      <td>0m5fIHHfJTw</td>\n",
       "      <td>217.5</td>\n",
       "      <td>218.0</td>\n",
       "      <td>no_vocals</td>\n",
       "      <td>[0.5259857177734375, 0.569580078125, 0.6193847...</td>\n",
       "      <td>[[0.0224609375, 0.0263671875, 0.03369140625, 0...</td>\n",
       "      <td>0.03751</td>\n",
       "      <td>0.042927</td>\n",
       "      <td>[-379.1829176292383, 100.50875734676428, 21.88...</td>\n",
       "      <td>[138.55693522606055, 54.45983632757572, 34.383...</td>\n",
       "      <td>...</td>\n",
       "      <td>0.169655</td>\n",
       "      <td>0.202067</td>\n",
       "      <td>0.167204</td>\n",
       "      <td>0.159067</td>\n",
       "      <td>0.137605</td>\n",
       "      <td>0.25053</td>\n",
       "      <td>0.204719</td>\n",
       "      <td>0.164546</td>\n",
       "      <td>0.238999</td>\n",
       "      <td>0.218127</td>\n",
       "    </tr>\n",
       "    <tr>\n",
       "      <th>33816</th>\n",
       "      <td>0m5fIHHfJTw</td>\n",
       "      <td>218.0</td>\n",
       "      <td>218.5</td>\n",
       "      <td>no_vocals</td>\n",
       "      <td>[-0.0138702392578125, -0.013885498046875, -0.0...</td>\n",
       "      <td>[[0.001953125, 0.00537109375, 0.005859375, 0.0...</td>\n",
       "      <td>0.058937</td>\n",
       "      <td>0.03881</td>\n",
       "      <td>[-615.9036073044142, 135.52941009389406, 27.96...</td>\n",
       "      <td>[44.69026342277424, 18.359997856909146, 11.164...</td>\n",
       "      <td>...</td>\n",
       "      <td>0.145635</td>\n",
       "      <td>0.202335</td>\n",
       "      <td>0.160063</td>\n",
       "      <td>0.100675</td>\n",
       "      <td>0.160747</td>\n",
       "      <td>0.22733</td>\n",
       "      <td>0.21804</td>\n",
       "      <td>0.19375</td>\n",
       "      <td>0.208642</td>\n",
       "      <td>0.17897</td>\n",
       "    </tr>\n",
       "    <tr>\n",
       "      <th>33817</th>\n",
       "      <td>0m5fIHHfJTw</td>\n",
       "      <td>218.5</td>\n",
       "      <td>219.0</td>\n",
       "      <td>no_vocals</td>\n",
       "      <td>[0.0004730224609375, 0.0006256103515625, 0.000...</td>\n",
       "      <td>[[0.02783203125, 0.0380859375, 0.0498046875, 0...</td>\n",
       "      <td>0.082163</td>\n",
       "      <td>0.034879</td>\n",
       "      <td>[-704.9911777841647, 136.4628461787571, 22.106...</td>\n",
       "      <td>[46.577167835073745, 12.020080039354543, 13.29...</td>\n",
       "      <td>...</td>\n",
       "      <td>0.142813</td>\n",
       "      <td>0.196156</td>\n",
       "      <td>0.158167</td>\n",
       "      <td>0.089661</td>\n",
       "      <td>0.140134</td>\n",
       "      <td>0.211731</td>\n",
       "      <td>0.254929</td>\n",
       "      <td>0.206402</td>\n",
       "      <td>0.215636</td>\n",
       "      <td>0.252988</td>\n",
       "    </tr>\n",
       "    <tr>\n",
       "      <th>33818</th>\n",
       "      <td>0m5fIHHfJTw</td>\n",
       "      <td>219.0</td>\n",
       "      <td>219.5</td>\n",
       "      <td>no_vocals</td>\n",
       "      <td>[0.0001983642578125, 0.000213623046875, 0.0002...</td>\n",
       "      <td>[[0.0244140625, 0.03564453125, 0.04736328125, ...</td>\n",
       "      <td>0.086027</td>\n",
       "      <td>0.075293</td>\n",
       "      <td>[-832.7066016133175, 96.57763219382491, 26.467...</td>\n",
       "      <td>[146.6767357704523, 47.752663648316016, 13.327...</td>\n",
       "      <td>...</td>\n",
       "      <td>0.167977</td>\n",
       "      <td>0.160818</td>\n",
       "      <td>0.121757</td>\n",
       "      <td>0.104552</td>\n",
       "      <td>0.118002</td>\n",
       "      <td>0.185847</td>\n",
       "      <td>0.165261</td>\n",
       "      <td>0.151475</td>\n",
       "      <td>0.184445</td>\n",
       "      <td>0.241599</td>\n",
       "    </tr>\n",
       "    <tr>\n",
       "      <th>33819</th>\n",
       "      <td>0m5fIHHfJTw</td>\n",
       "      <td>219.5</td>\n",
       "      <td>220.0</td>\n",
       "      <td>no_vocals</td>\n",
       "      <td>[6.103515625e-05, 6.103515625e-05, 3.051757812...</td>\n",
       "      <td>[[0.03857421875, 0.05322265625, 0.0654296875, ...</td>\n",
       "      <td>0.037705</td>\n",
       "      <td>0.090593</td>\n",
       "      <td>[-1026.082276155594, 33.20506951122886, 11.096...</td>\n",
       "      <td>[154.7237831730737, 48.4152363284318, 16.43702...</td>\n",
       "      <td>...</td>\n",
       "      <td>0.142183</td>\n",
       "      <td>0.111156</td>\n",
       "      <td>0.089856</td>\n",
       "      <td>0.084699</td>\n",
       "      <td>0.084558</td>\n",
       "      <td>0.096324</td>\n",
       "      <td>0.084892</td>\n",
       "      <td>0.109355</td>\n",
       "      <td>0.133437</td>\n",
       "      <td>0.11627</td>\n",
       "    </tr>\n",
       "  </tbody>\n",
       "</table>\n",
       "<p>33820 rows × 64 columns</p>\n",
       "</div>"
      ],
      "text/plain": [
       "          video_id     ts mid_ts      label  \\\n",
       "0      4600fGWcn9o    0.0    0.5  no_vocals   \n",
       "1      4600fGWcn9o    0.5    1.0  no_vocals   \n",
       "2      4600fGWcn9o    1.0    1.5  no_vocals   \n",
       "3      4600fGWcn9o    1.5    2.0  no_vocals   \n",
       "4      4600fGWcn9o    2.0    2.5  no_vocals   \n",
       "...            ...    ...    ...        ...   \n",
       "33815  0m5fIHHfJTw  217.5  218.0  no_vocals   \n",
       "33816  0m5fIHHfJTw  218.0  218.5  no_vocals   \n",
       "33817  0m5fIHHfJTw  218.5  219.0  no_vocals   \n",
       "33818  0m5fIHHfJTw  219.0  219.5  no_vocals   \n",
       "33819  0m5fIHHfJTw  219.5  220.0  no_vocals   \n",
       "\n",
       "                                                   audio  \\\n",
       "0      [0.0, 0.0, 0.0, 0.0, 0.0, 0.0, 0.0, 0.0, 0.0, ...   \n",
       "1      [0.6896209716796875, 0.7178192138671875, 0.738...   \n",
       "2      [0.10858154296875, 0.0853118896484375, 0.02359...   \n",
       "3      [0.0962982177734375, 0.0923919677734375, 0.083...   \n",
       "4      [0.5100250244140625, 0.488677978515625, 0.4525...   \n",
       "...                                                  ...   \n",
       "33815  [0.5259857177734375, 0.569580078125, 0.6193847...   \n",
       "33816  [-0.0138702392578125, -0.013885498046875, -0.0...   \n",
       "33817  [0.0004730224609375, 0.0006256103515625, 0.000...   \n",
       "33818  [0.0001983642578125, 0.000213623046875, 0.0002...   \n",
       "33819  [6.103515625e-05, 6.103515625e-05, 3.051757812...   \n",
       "\n",
       "                                                     zcr average_zcr  \\\n",
       "0      [[0.0, 0.0029296875, 0.03466796875, 0.0625, 0....    0.095039   \n",
       "1      [[0.001953125, 0.00732421875, 0.01220703125, 0...    0.030553   \n",
       "2      [[0.0087890625, 0.01123046875, 0.013671875, 0....    0.061321   \n",
       "3      [[0.00732421875, 0.01318359375, 0.02734375, 0....    0.103292   \n",
       "4      [[0.0146484375, 0.02587890625, 0.03515625, 0.0...    0.110753   \n",
       "...                                                  ...         ...   \n",
       "33815  [[0.0224609375, 0.0263671875, 0.03369140625, 0...     0.03751   \n",
       "33816  [[0.001953125, 0.00537109375, 0.005859375, 0.0...    0.058937   \n",
       "33817  [[0.02783203125, 0.0380859375, 0.0498046875, 0...    0.082163   \n",
       "33818  [[0.0244140625, 0.03564453125, 0.04736328125, ...    0.086027   \n",
       "33819  [[0.03857421875, 0.05322265625, 0.0654296875, ...    0.037705   \n",
       "\n",
       "      zcr_stddev                                          mfcc_mean  \\\n",
       "0        0.11232  [-129.30442472392588, 120.84185637231003, -42....   \n",
       "1       0.024637  [-111.62375869978057, 148.0224260673816, -44.4...   \n",
       "2       0.086889  [-90.45160174337661, 151.44191500944592, -48.0...   \n",
       "3       0.073054  [-40.750934579140804, 151.8890810594238, -59.9...   \n",
       "4       0.042473  [-27.540076624559322, 159.0698455536097, -66.0...   \n",
       "...          ...                                                ...   \n",
       "33815   0.042927  [-379.1829176292383, 100.50875734676428, 21.88...   \n",
       "33816    0.03881  [-615.9036073044142, 135.52941009389406, 27.96...   \n",
       "33817   0.034879  [-704.9911777841647, 136.4628461787571, 22.106...   \n",
       "33818   0.075293  [-832.7066016133175, 96.57763219382491, 26.467...   \n",
       "33819   0.090593  [-1026.082276155594, 33.20506951122886, 11.096...   \n",
       "\n",
       "                                                mfcc_std  ... delta_mfcc4_std  \\\n",
       "0      [153.86292168258274, 51.389458611989106, 24.00...  ...        0.378322   \n",
       "1      [44.227963654699344, 19.079967098386888, 16.58...  ...        0.246632   \n",
       "2      [59.2113875017919, 21.34803042085795, 17.82077...  ...        0.238022   \n",
       "3      [43.66095542689978, 17.427200032963146, 12.853...  ...        0.181022   \n",
       "4      [14.19266859603115, 10.165987966773274, 5.5215...  ...        0.172422   \n",
       "...                                                  ...  ...             ...   \n",
       "33815  [138.55693522606055, 54.45983632757572, 34.383...  ...        0.169655   \n",
       "33816  [44.69026342277424, 18.359997856909146, 11.164...  ...        0.145635   \n",
       "33817  [46.577167835073745, 12.020080039354543, 13.29...  ...        0.142813   \n",
       "33818  [146.6767357704523, 47.752663648316016, 13.327...  ...        0.167977   \n",
       "33819  [154.7237831730737, 48.4152363284318, 16.43702...  ...        0.142183   \n",
       "\n",
       "      delta_mfcc5_std delta_mfcc6_std delta_mfcc7_std delta_mfcc8_std  \\\n",
       "0            0.362442        0.255812        0.216369        0.197342   \n",
       "1            0.260994        0.231468        0.192004        0.194783   \n",
       "2            0.369578        0.295717        0.230257        0.211923   \n",
       "3            0.313454        0.240912        0.174939         0.24846   \n",
       "4            0.128003         0.13986        0.124283        0.242181   \n",
       "...               ...             ...             ...             ...   \n",
       "33815        0.202067        0.167204        0.159067        0.137605   \n",
       "33816        0.202335        0.160063        0.100675        0.160747   \n",
       "33817        0.196156        0.158167        0.089661        0.140134   \n",
       "33818        0.160818        0.121757        0.104552        0.118002   \n",
       "33819        0.111156        0.089856        0.084699        0.084558   \n",
       "\n",
       "      delta_mfcc9_std delta_mfcc10_std delta_mfcc11_std delta_mfcc12_std  \\\n",
       "0            0.270354         0.256349          0.17529         0.240528   \n",
       "1            0.273414         0.291844         0.168888         0.195023   \n",
       "2            0.384199          0.33963         0.172804         0.233265   \n",
       "3            0.355483         0.318322         0.203571          0.27357   \n",
       "4              0.2392         0.353877         0.214575         0.241836   \n",
       "...               ...              ...              ...              ...   \n",
       "33815         0.25053         0.204719         0.164546         0.238999   \n",
       "33816         0.22733          0.21804          0.19375         0.208642   \n",
       "33817        0.211731         0.254929         0.206402         0.215636   \n",
       "33818        0.185847         0.165261         0.151475         0.184445   \n",
       "33819        0.096324         0.084892         0.109355         0.133437   \n",
       "\n",
       "      delta_mfcc13_std  \n",
       "0             0.429757  \n",
       "1             0.423875  \n",
       "2             0.369526  \n",
       "3             0.256327  \n",
       "4             0.275868  \n",
       "...                ...  \n",
       "33815         0.218127  \n",
       "33816          0.17897  \n",
       "33817         0.252988  \n",
       "33818         0.241599  \n",
       "33819          0.11627  \n",
       "\n",
       "[33820 rows x 64 columns]"
      ]
     },
     "metadata": {},
     "execution_count": 37
    }
   ],
   "metadata": {}
  },
  {
   "cell_type": "code",
   "execution_count": 58,
   "source": [
    "selected_cols=['video_id', 'ts', 'mid_ts', 'label', 'average_zcr',\n",
    "       'zcr_stddev', 'mfcc1_mean', 'mfcc2_mean', 'mfcc3_mean',\n",
    "       'mfcc4_mean', 'mfcc5_mean', 'mfcc6_mean', 'mfcc7_mean', 'mfcc8_mean',\n",
    "       'mfcc9_mean', 'mfcc10_mean', 'mfcc11_mean', 'mfcc12_mean',\n",
    "       'mfcc13_mean', 'mfcc1_std', 'mfcc2_std', 'mfcc3_std', 'mfcc4_std',\n",
    "       'mfcc5_std', 'mfcc6_std', 'mfcc7_std', 'mfcc8_std', 'mfcc9_std',\n",
    "       'mfcc10_std', 'mfcc11_std', 'mfcc12_std', 'mfcc13_std',\n",
    "       'delta_mfcc1_mean', 'delta_mfcc2_mean', 'delta_mfcc3_mean',\n",
    "       'delta_mfcc4_mean', 'delta_mfcc5_mean', 'delta_mfcc6_mean',\n",
    "       'delta_mfcc7_mean', 'delta_mfcc8_mean', 'delta_mfcc9_mean',\n",
    "       'delta_mfcc10_mean', 'delta_mfcc11_mean', 'delta_mfcc12_mean',\n",
    "       'delta_mfcc13_mean', 'delta_mfcc1_std', 'delta_mfcc2_std',\n",
    "       'delta_mfcc3_std', 'delta_mfcc4_std', 'delta_mfcc5_std',\n",
    "       'delta_mfcc6_std', 'delta_mfcc7_std', 'delta_mfcc8_std',\n",
    "       'delta_mfcc9_std', 'delta_mfcc10_std', 'delta_mfcc11_std',\n",
    "       'delta_mfcc12_std', 'delta_mfcc13_std']\n",
    "np.save('./resources/working_data/data_with_features.npy', df[selected_cols].to_numpy())"
   ],
   "outputs": [],
   "metadata": {}
  },
  {
   "cell_type": "code",
   "execution_count": 68,
   "source": [
    "df.shape"
   ],
   "outputs": [
    {
     "output_type": "execute_result",
     "data": {
      "text/plain": [
       "(33820, 64)"
      ]
     },
     "metadata": {},
     "execution_count": 68
    }
   ],
   "metadata": {}
  },
  {
   "cell_type": "markdown",
   "source": [
    "# Classify!\n",
    "\n",
    "Train the classifier with the X_train and Y_train, and then make predictions based on X_test\\\n",
    "Compare the predictions with Y_test and calculate accuracy score and show the confusion matrix"
   ],
   "metadata": {}
  },
  {
   "cell_type": "markdown",
   "source": [
    "## Load data with features"
   ],
   "metadata": {}
  },
  {
   "cell_type": "code",
   "execution_count": 45,
   "source": [
    "cols=['video_id', 'ts', 'mid_ts', 'label', 'average_zcr',\n",
    "       'zcr_stddev', 'mfcc1_mean', 'mfcc2_mean', 'mfcc3_mean',\n",
    "       'mfcc4_mean', 'mfcc5_mean', 'mfcc6_mean', 'mfcc7_mean', 'mfcc8_mean',\n",
    "       'mfcc9_mean', 'mfcc10_mean', 'mfcc11_mean', 'mfcc12_mean',\n",
    "       'mfcc13_mean', 'mfcc1_std', 'mfcc2_std', 'mfcc3_std', 'mfcc4_std',\n",
    "       'mfcc5_std', 'mfcc6_std', 'mfcc7_std', 'mfcc8_std', 'mfcc9_std',\n",
    "       'mfcc10_std', 'mfcc11_std', 'mfcc12_std', 'mfcc13_std',\n",
    "       'delta_mfcc1_mean', 'delta_mfcc2_mean', 'delta_mfcc3_mean',\n",
    "       'delta_mfcc4_mean', 'delta_mfcc5_mean', 'delta_mfcc6_mean',\n",
    "       'delta_mfcc7_mean', 'delta_mfcc8_mean', 'delta_mfcc9_mean',\n",
    "       'delta_mfcc10_mean', 'delta_mfcc11_mean', 'delta_mfcc12_mean',\n",
    "       'delta_mfcc13_mean', 'delta_mfcc1_std', 'delta_mfcc2_std',\n",
    "       'delta_mfcc3_std', 'delta_mfcc4_std', 'delta_mfcc5_std',\n",
    "       'delta_mfcc6_std', 'delta_mfcc7_std', 'delta_mfcc8_std',\n",
    "       'delta_mfcc9_std', 'delta_mfcc10_std', 'delta_mfcc11_std',\n",
    "       'delta_mfcc12_std', 'delta_mfcc13_std']"
   ],
   "outputs": [],
   "metadata": {}
  },
  {
   "cell_type": "markdown",
   "source": [
    "Below paragraph takes about 16 s"
   ],
   "metadata": {}
  },
  {
   "cell_type": "code",
   "execution_count": 2,
   "source": [
    "d=np.load('./resources/working_data/data_with_features.npy',allow_pickle=True)\n",
    "df = pd.DataFrame(d,columns=cols)\n",
    "\n",
    "lut = pd.read_csv('./resources/dataset/lookup_new.csv')\n",
    "\n"
   ],
   "outputs": [],
   "metadata": {}
  },
  {
   "cell_type": "code",
   "execution_count": 46,
   "source": [
    "from imblearn.under_sampling import RandomUnderSampler\n",
    "undersample = RandomUnderSampler(sampling_strategy='not minority',random_state=0)\n",
    "from collections import Counter\n",
    "X = df[cols].to_numpy()\n",
    "y=df[['label']].to_numpy()\n",
    "\n",
    "X_under, y_under = undersample.fit_resample(X, y)"
   ],
   "outputs": [],
   "metadata": {}
  },
  {
   "cell_type": "code",
   "execution_count": 47,
   "source": [
    "undersampled_data = pd.DataFrame(X_under,columns=cols)\n",
    "undersampled_data['label'] = y_under\n",
    "undersampled_data"
   ],
   "outputs": [
    {
     "output_type": "execute_result",
     "data": {
      "text/html": [
       "<div>\n",
       "<style scoped>\n",
       "    .dataframe tbody tr th:only-of-type {\n",
       "        vertical-align: middle;\n",
       "    }\n",
       "\n",
       "    .dataframe tbody tr th {\n",
       "        vertical-align: top;\n",
       "    }\n",
       "\n",
       "    .dataframe thead th {\n",
       "        text-align: right;\n",
       "    }\n",
       "</style>\n",
       "<table border=\"1\" class=\"dataframe\">\n",
       "  <thead>\n",
       "    <tr style=\"text-align: right;\">\n",
       "      <th></th>\n",
       "      <th>video_id</th>\n",
       "      <th>ts</th>\n",
       "      <th>mid_ts</th>\n",
       "      <th>label</th>\n",
       "      <th>average_zcr</th>\n",
       "      <th>zcr_stddev</th>\n",
       "      <th>mfcc1_mean</th>\n",
       "      <th>mfcc2_mean</th>\n",
       "      <th>mfcc3_mean</th>\n",
       "      <th>mfcc4_mean</th>\n",
       "      <th>...</th>\n",
       "      <th>delta_mfcc4_std</th>\n",
       "      <th>delta_mfcc5_std</th>\n",
       "      <th>delta_mfcc6_std</th>\n",
       "      <th>delta_mfcc7_std</th>\n",
       "      <th>delta_mfcc8_std</th>\n",
       "      <th>delta_mfcc9_std</th>\n",
       "      <th>delta_mfcc10_std</th>\n",
       "      <th>delta_mfcc11_std</th>\n",
       "      <th>delta_mfcc12_std</th>\n",
       "      <th>delta_mfcc13_std</th>\n",
       "    </tr>\n",
       "  </thead>\n",
       "  <tbody>\n",
       "    <tr>\n",
       "      <th>0</th>\n",
       "      <td>-2WqQY_xSSM</td>\n",
       "      <td>170.0</td>\n",
       "      <td>170.5</td>\n",
       "      <td>clean</td>\n",
       "      <td>0.118491</td>\n",
       "      <td>0.03782</td>\n",
       "      <td>-0.0296</td>\n",
       "      <td>0.601753</td>\n",
       "      <td>-0.525863</td>\n",
       "      <td>0.507023</td>\n",
       "      <td>...</td>\n",
       "      <td>0.258681</td>\n",
       "      <td>0.199542</td>\n",
       "      <td>0.271011</td>\n",
       "      <td>0.228729</td>\n",
       "      <td>0.405648</td>\n",
       "      <td>0.401938</td>\n",
       "      <td>0.331607</td>\n",
       "      <td>0.211656</td>\n",
       "      <td>0.37926</td>\n",
       "      <td>0.28405</td>\n",
       "    </tr>\n",
       "    <tr>\n",
       "      <th>1</th>\n",
       "      <td>FNdC_3LR2AI</td>\n",
       "      <td>219.0</td>\n",
       "      <td>219.5</td>\n",
       "      <td>clean</td>\n",
       "      <td>0.076993</td>\n",
       "      <td>0.033511</td>\n",
       "      <td>-0.042997</td>\n",
       "      <td>0.585207</td>\n",
       "      <td>-0.363184</td>\n",
       "      <td>0.591661</td>\n",
       "      <td>...</td>\n",
       "      <td>0.20641</td>\n",
       "      <td>0.266282</td>\n",
       "      <td>0.220918</td>\n",
       "      <td>0.231036</td>\n",
       "      <td>0.228568</td>\n",
       "      <td>0.236466</td>\n",
       "      <td>0.174915</td>\n",
       "      <td>0.172336</td>\n",
       "      <td>0.193141</td>\n",
       "      <td>0.215727</td>\n",
       "    </tr>\n",
       "    <tr>\n",
       "      <th>2</th>\n",
       "      <td>4600fGWcn9o</td>\n",
       "      <td>280.5</td>\n",
       "      <td>281.0</td>\n",
       "      <td>clean</td>\n",
       "      <td>0.095738</td>\n",
       "      <td>0.021124</td>\n",
       "      <td>-0.049838</td>\n",
       "      <td>0.6778</td>\n",
       "      <td>-0.431767</td>\n",
       "      <td>0.412706</td>\n",
       "      <td>...</td>\n",
       "      <td>0.103531</td>\n",
       "      <td>0.103153</td>\n",
       "      <td>0.116279</td>\n",
       "      <td>0.117942</td>\n",
       "      <td>0.13046</td>\n",
       "      <td>0.181046</td>\n",
       "      <td>0.176319</td>\n",
       "      <td>0.174433</td>\n",
       "      <td>0.129422</td>\n",
       "      <td>0.223523</td>\n",
       "    </tr>\n",
       "    <tr>\n",
       "      <th>3</th>\n",
       "      <td>get0cXOsSXg</td>\n",
       "      <td>80.0</td>\n",
       "      <td>80.5</td>\n",
       "      <td>clean</td>\n",
       "      <td>0.111308</td>\n",
       "      <td>0.044755</td>\n",
       "      <td>-0.027565</td>\n",
       "      <td>0.494452</td>\n",
       "      <td>-0.344048</td>\n",
       "      <td>0.517288</td>\n",
       "      <td>...</td>\n",
       "      <td>0.230225</td>\n",
       "      <td>0.220953</td>\n",
       "      <td>0.296749</td>\n",
       "      <td>0.292011</td>\n",
       "      <td>0.301978</td>\n",
       "      <td>0.474694</td>\n",
       "      <td>0.298779</td>\n",
       "      <td>0.329122</td>\n",
       "      <td>0.374311</td>\n",
       "      <td>0.319355</td>\n",
       "    </tr>\n",
       "    <tr>\n",
       "      <th>4</th>\n",
       "      <td>74nTzbgDGWM</td>\n",
       "      <td>121.5</td>\n",
       "      <td>122.0</td>\n",
       "      <td>clean</td>\n",
       "      <td>0.175599</td>\n",
       "      <td>0.095507</td>\n",
       "      <td>0.00864</td>\n",
       "      <td>0.416546</td>\n",
       "      <td>-0.323433</td>\n",
       "      <td>0.290742</td>\n",
       "      <td>...</td>\n",
       "      <td>0.175767</td>\n",
       "      <td>0.174746</td>\n",
       "      <td>0.17976</td>\n",
       "      <td>0.157361</td>\n",
       "      <td>0.220805</td>\n",
       "      <td>0.314724</td>\n",
       "      <td>0.179664</td>\n",
       "      <td>0.280147</td>\n",
       "      <td>0.273909</td>\n",
       "      <td>0.257404</td>\n",
       "    </tr>\n",
       "    <tr>\n",
       "      <th>...</th>\n",
       "      <td>...</td>\n",
       "      <td>...</td>\n",
       "      <td>...</td>\n",
       "      <td>...</td>\n",
       "      <td>...</td>\n",
       "      <td>...</td>\n",
       "      <td>...</td>\n",
       "      <td>...</td>\n",
       "      <td>...</td>\n",
       "      <td>...</td>\n",
       "      <td>...</td>\n",
       "      <td>...</td>\n",
       "      <td>...</td>\n",
       "      <td>...</td>\n",
       "      <td>...</td>\n",
       "      <td>...</td>\n",
       "      <td>...</td>\n",
       "      <td>...</td>\n",
       "      <td>...</td>\n",
       "      <td>...</td>\n",
       "      <td>...</td>\n",
       "    </tr>\n",
       "    <tr>\n",
       "      <th>3325</th>\n",
       "      <td>B7iIS91fMAc</td>\n",
       "      <td>117.0</td>\n",
       "      <td>117.5</td>\n",
       "      <td>no_vocals</td>\n",
       "      <td>0.123218</td>\n",
       "      <td>0.029629</td>\n",
       "      <td>0.034601</td>\n",
       "      <td>0.514027</td>\n",
       "      <td>-0.43047</td>\n",
       "      <td>0.371001</td>\n",
       "      <td>...</td>\n",
       "      <td>0.193159</td>\n",
       "      <td>0.18078</td>\n",
       "      <td>0.166407</td>\n",
       "      <td>0.119742</td>\n",
       "      <td>0.156025</td>\n",
       "      <td>0.167708</td>\n",
       "      <td>0.196472</td>\n",
       "      <td>0.177082</td>\n",
       "      <td>0.168337</td>\n",
       "      <td>0.220691</td>\n",
       "    </tr>\n",
       "    <tr>\n",
       "      <th>3326</th>\n",
       "      <td>ainbICPRV8Y</td>\n",
       "      <td>25.5</td>\n",
       "      <td>26.0</td>\n",
       "      <td>no_vocals</td>\n",
       "      <td>0.052216</td>\n",
       "      <td>0.037502</td>\n",
       "      <td>-0.163743</td>\n",
       "      <td>0.627249</td>\n",
       "      <td>-0.183702</td>\n",
       "      <td>0.459418</td>\n",
       "      <td>...</td>\n",
       "      <td>0.289458</td>\n",
       "      <td>0.47157</td>\n",
       "      <td>0.457618</td>\n",
       "      <td>0.377304</td>\n",
       "      <td>0.483696</td>\n",
       "      <td>0.412237</td>\n",
       "      <td>0.253132</td>\n",
       "      <td>0.229593</td>\n",
       "      <td>0.383528</td>\n",
       "      <td>0.37384</td>\n",
       "    </tr>\n",
       "    <tr>\n",
       "      <th>3327</th>\n",
       "      <td>Bh_5ofa__pY</td>\n",
       "      <td>192.5</td>\n",
       "      <td>193.0</td>\n",
       "      <td>no_vocals</td>\n",
       "      <td>0.075113</td>\n",
       "      <td>0.045458</td>\n",
       "      <td>-0.184054</td>\n",
       "      <td>0.583448</td>\n",
       "      <td>-0.192367</td>\n",
       "      <td>0.497646</td>\n",
       "      <td>...</td>\n",
       "      <td>0.158606</td>\n",
       "      <td>0.16079</td>\n",
       "      <td>0.143837</td>\n",
       "      <td>0.163422</td>\n",
       "      <td>0.151393</td>\n",
       "      <td>0.181318</td>\n",
       "      <td>0.289548</td>\n",
       "      <td>0.244237</td>\n",
       "      <td>0.165313</td>\n",
       "      <td>0.203696</td>\n",
       "    </tr>\n",
       "    <tr>\n",
       "      <th>3328</th>\n",
       "      <td>C_voh9WFbsM</td>\n",
       "      <td>193.0</td>\n",
       "      <td>193.5</td>\n",
       "      <td>no_vocals</td>\n",
       "      <td>0.0401</td>\n",
       "      <td>0.020788</td>\n",
       "      <td>-0.157526</td>\n",
       "      <td>0.686169</td>\n",
       "      <td>-0.269531</td>\n",
       "      <td>0.147087</td>\n",
       "      <td>...</td>\n",
       "      <td>0.234284</td>\n",
       "      <td>0.482024</td>\n",
       "      <td>0.470637</td>\n",
       "      <td>0.315412</td>\n",
       "      <td>0.376187</td>\n",
       "      <td>0.373598</td>\n",
       "      <td>0.225737</td>\n",
       "      <td>0.277297</td>\n",
       "      <td>0.289864</td>\n",
       "      <td>0.348925</td>\n",
       "    </tr>\n",
       "    <tr>\n",
       "      <th>3329</th>\n",
       "      <td>GLu-E42-RmA</td>\n",
       "      <td>89.5</td>\n",
       "      <td>90.0</td>\n",
       "      <td>no_vocals</td>\n",
       "      <td>0.224557</td>\n",
       "      <td>0.184684</td>\n",
       "      <td>-0.125948</td>\n",
       "      <td>0.429692</td>\n",
       "      <td>-0.375398</td>\n",
       "      <td>0.520096</td>\n",
       "      <td>...</td>\n",
       "      <td>0.436984</td>\n",
       "      <td>0.470044</td>\n",
       "      <td>0.216307</td>\n",
       "      <td>0.507178</td>\n",
       "      <td>0.187359</td>\n",
       "      <td>0.492072</td>\n",
       "      <td>0.27221</td>\n",
       "      <td>0.332058</td>\n",
       "      <td>0.248652</td>\n",
       "      <td>0.333148</td>\n",
       "    </tr>\n",
       "  </tbody>\n",
       "</table>\n",
       "<p>3330 rows × 58 columns</p>\n",
       "</div>"
      ],
      "text/plain": [
       "         video_id     ts mid_ts      label average_zcr zcr_stddev mfcc1_mean  \\\n",
       "0     -2WqQY_xSSM  170.0  170.5      clean    0.118491    0.03782    -0.0296   \n",
       "1     FNdC_3LR2AI  219.0  219.5      clean    0.076993   0.033511  -0.042997   \n",
       "2     4600fGWcn9o  280.5  281.0      clean    0.095738   0.021124  -0.049838   \n",
       "3     get0cXOsSXg   80.0   80.5      clean    0.111308   0.044755  -0.027565   \n",
       "4     74nTzbgDGWM  121.5  122.0      clean    0.175599   0.095507    0.00864   \n",
       "...           ...    ...    ...        ...         ...        ...        ...   \n",
       "3325  B7iIS91fMAc  117.0  117.5  no_vocals    0.123218   0.029629   0.034601   \n",
       "3326  ainbICPRV8Y   25.5   26.0  no_vocals    0.052216   0.037502  -0.163743   \n",
       "3327  Bh_5ofa__pY  192.5  193.0  no_vocals    0.075113   0.045458  -0.184054   \n",
       "3328  C_voh9WFbsM  193.0  193.5  no_vocals      0.0401   0.020788  -0.157526   \n",
       "3329  GLu-E42-RmA   89.5   90.0  no_vocals    0.224557   0.184684  -0.125948   \n",
       "\n",
       "     mfcc2_mean mfcc3_mean mfcc4_mean  ... delta_mfcc4_std delta_mfcc5_std  \\\n",
       "0      0.601753  -0.525863   0.507023  ...        0.258681        0.199542   \n",
       "1      0.585207  -0.363184   0.591661  ...         0.20641        0.266282   \n",
       "2        0.6778  -0.431767   0.412706  ...        0.103531        0.103153   \n",
       "3      0.494452  -0.344048   0.517288  ...        0.230225        0.220953   \n",
       "4      0.416546  -0.323433   0.290742  ...        0.175767        0.174746   \n",
       "...         ...        ...        ...  ...             ...             ...   \n",
       "3325   0.514027   -0.43047   0.371001  ...        0.193159         0.18078   \n",
       "3326   0.627249  -0.183702   0.459418  ...        0.289458         0.47157   \n",
       "3327   0.583448  -0.192367   0.497646  ...        0.158606         0.16079   \n",
       "3328   0.686169  -0.269531   0.147087  ...        0.234284        0.482024   \n",
       "3329   0.429692  -0.375398   0.520096  ...        0.436984        0.470044   \n",
       "\n",
       "     delta_mfcc6_std delta_mfcc7_std delta_mfcc8_std delta_mfcc9_std  \\\n",
       "0           0.271011        0.228729        0.405648        0.401938   \n",
       "1           0.220918        0.231036        0.228568        0.236466   \n",
       "2           0.116279        0.117942         0.13046        0.181046   \n",
       "3           0.296749        0.292011        0.301978        0.474694   \n",
       "4            0.17976        0.157361        0.220805        0.314724   \n",
       "...              ...             ...             ...             ...   \n",
       "3325        0.166407        0.119742        0.156025        0.167708   \n",
       "3326        0.457618        0.377304        0.483696        0.412237   \n",
       "3327        0.143837        0.163422        0.151393        0.181318   \n",
       "3328        0.470637        0.315412        0.376187        0.373598   \n",
       "3329        0.216307        0.507178        0.187359        0.492072   \n",
       "\n",
       "     delta_mfcc10_std delta_mfcc11_std delta_mfcc12_std delta_mfcc13_std  \n",
       "0            0.331607         0.211656          0.37926          0.28405  \n",
       "1            0.174915         0.172336         0.193141         0.215727  \n",
       "2            0.176319         0.174433         0.129422         0.223523  \n",
       "3            0.298779         0.329122         0.374311         0.319355  \n",
       "4            0.179664         0.280147         0.273909         0.257404  \n",
       "...               ...              ...              ...              ...  \n",
       "3325         0.196472         0.177082         0.168337         0.220691  \n",
       "3326         0.253132         0.229593         0.383528          0.37384  \n",
       "3327         0.289548         0.244237         0.165313         0.203696  \n",
       "3328         0.225737         0.277297         0.289864         0.348925  \n",
       "3329          0.27221         0.332058         0.248652         0.333148  \n",
       "\n",
       "[3330 rows x 58 columns]"
      ]
     },
     "metadata": {},
     "execution_count": 47
    }
   ],
   "metadata": {}
  },
  {
   "cell_type": "markdown",
   "source": [
    "## Create Train Test Split"
   ],
   "metadata": {}
  },
  {
   "cell_type": "code",
   "execution_count": 67,
   "source": [
    "from sklearn.model_selection import GroupShuffleSplit\n",
    "train_inds, test_inds = next(GroupShuffleSplit(test_size=.2, n_splits=2, random_state = 0).split(lut, groups=lut['band_name']))\n",
    "\n",
    "train = lut.iloc[train_inds]\n",
    "test = lut.iloc[test_inds]\n",
    "\n",
    "train_ids = train['video_id'].to_numpy()\n",
    "test_ids = test['video_id'].to_numpy()\n",
    "\n",
    "#df_final = df\n",
    "df_final = undersampled_data\n",
    "train = df_final[df_final.video_id.isin(train_ids)]\n",
    "test = df_final[df_final.video_id.isin(test_ids)]"
   ],
   "outputs": [],
   "metadata": {}
  },
  {
   "cell_type": "markdown",
   "source": [
    "### Training set breakout"
   ],
   "metadata": {}
  },
  {
   "cell_type": "code",
   "execution_count": 68,
   "source": [
    "train.groupby('label')['mid_ts'].count()"
   ],
   "outputs": [
    {
     "output_type": "execute_result",
     "data": {
      "text/plain": [
       "label\n",
       "clean        453\n",
       "highfry      442\n",
       "layered      324\n",
       "lowfry       287\n",
       "midfry       402\n",
       "no_vocals    372\n",
       "Name: mid_ts, dtype: int64"
      ]
     },
     "metadata": {},
     "execution_count": 68
    }
   ],
   "metadata": {}
  },
  {
   "cell_type": "markdown",
   "source": [
    "### Test set breakout"
   ],
   "metadata": {}
  },
  {
   "cell_type": "code",
   "execution_count": 69,
   "source": [
    "test.groupby('label')['mid_ts'].count()"
   ],
   "outputs": [
    {
     "output_type": "execute_result",
     "data": {
      "text/plain": [
       "label\n",
       "clean        102\n",
       "highfry      113\n",
       "layered      231\n",
       "lowfry       268\n",
       "midfry       153\n",
       "no_vocals    183\n",
       "Name: mid_ts, dtype: int64"
      ]
     },
     "metadata": {},
     "execution_count": 69
    }
   ],
   "metadata": {}
  },
  {
   "cell_type": "code",
   "execution_count": 53,
   "source": [
    "X_train = train[['average_zcr','zcr_stddev','mfcc1_mean', 'mfcc2_mean', 'mfcc3_mean','mfcc4_mean', 'mfcc5_mean', 'mfcc6_mean', 'mfcc7_mean', 'mfcc8_mean','mfcc9_mean', 'mfcc10_mean', 'mfcc11_mean', 'mfcc12_mean','mfcc13_mean', 'mfcc1_std', 'mfcc2_std', 'mfcc3_std', 'mfcc4_std','mfcc5_std', 'mfcc6_std', 'mfcc7_std', 'mfcc8_std', 'mfcc9_std','mfcc10_std', 'mfcc11_std', 'mfcc12_std', 'mfcc13_std','delta_mfcc1_mean', 'delta_mfcc2_mean', 'delta_mfcc3_mean','delta_mfcc4_mean', 'delta_mfcc5_mean', 'delta_mfcc6_mean','delta_mfcc7_mean', 'delta_mfcc8_mean', 'delta_mfcc9_mean','delta_mfcc10_mean', 'delta_mfcc11_mean', 'delta_mfcc12_mean','delta_mfcc13_mean', 'delta_mfcc1_std', 'delta_mfcc2_std','delta_mfcc3_std', 'delta_mfcc4_std', 'delta_mfcc5_std','delta_mfcc6_std', 'delta_mfcc7_std', 'delta_mfcc8_std','delta_mfcc9_std', 'delta_mfcc10_std', 'delta_mfcc11_std','delta_mfcc12_std', 'delta_mfcc13_std']].to_numpy()\n",
    "y_train=train[['label']].to_numpy()\n",
    "\n",
    "X_test = test[['average_zcr','zcr_stddev', 'mfcc1_mean', 'mfcc2_mean', 'mfcc3_mean','mfcc4_mean', 'mfcc5_mean', 'mfcc6_mean', 'mfcc7_mean', 'mfcc8_mean','mfcc9_mean', 'mfcc10_mean', 'mfcc11_mean', 'mfcc12_mean','mfcc13_mean', 'mfcc1_std', 'mfcc2_std', 'mfcc3_std', 'mfcc4_std','mfcc5_std', 'mfcc6_std', 'mfcc7_std', 'mfcc8_std', 'mfcc9_std','mfcc10_std', 'mfcc11_std', 'mfcc12_std', 'mfcc13_std','delta_mfcc1_mean', 'delta_mfcc2_mean', 'delta_mfcc3_mean','delta_mfcc4_mean', 'delta_mfcc5_mean', 'delta_mfcc6_mean','delta_mfcc7_mean', 'delta_mfcc8_mean', 'delta_mfcc9_mean','delta_mfcc10_mean', 'delta_mfcc11_mean', 'delta_mfcc12_mean','delta_mfcc13_mean', 'delta_mfcc1_std', 'delta_mfcc2_std','delta_mfcc3_std', 'delta_mfcc4_std', 'delta_mfcc5_std','delta_mfcc6_std', 'delta_mfcc7_std', 'delta_mfcc8_std','delta_mfcc9_std', 'delta_mfcc10_std', 'delta_mfcc11_std','delta_mfcc12_std', 'delta_mfcc13_std']].to_numpy()\n",
    "y_test = test[['label']].to_numpy()"
   ],
   "outputs": [],
   "metadata": {}
  },
  {
   "cell_type": "markdown",
   "source": [
    "## Trying 3 class- scream, sing, nothing"
   ],
   "metadata": {}
  },
  {
   "cell_type": "code",
   "execution_count": 87,
   "source": [
    "y_train_3class = []\n",
    "y_test_3class = []\n",
    "for i in range(len(y_train)):\n",
    "    if y_train[i] in ['midfry','lowfry','highfry','layered']:\n",
    "        y_train_3class.append('scream')\n",
    "    elif y_train[i] == 'clean':\n",
    "        y_train_3class.append('sing')\n",
    "    else:\n",
    "        y_train_3class.append('no vocal')\n",
    "\n",
    "for i in range(len(y_test)):\n",
    "    if y_test[i] in ['midfry','lowfry','highfry','layered']:\n",
    "        y_test_3class.append('scream')\n",
    "    elif y_test[i] == 'clean':\n",
    "        y_test_3class.append('sing')\n",
    "    else:\n",
    "        y_test_3class.append('no vocal')\n",
    "\n",
    "y_train_3class = np.array(y_train_3class)\n",
    "y_test_3class = np.array(y_test_3class)"
   ],
   "outputs": [],
   "metadata": {}
  },
  {
   "cell_type": "code",
   "execution_count": 68,
   "source": [
    "(test.shape[0] + train.shape[0])**0.5"
   ],
   "outputs": [
    {
     "output_type": "execute_result",
     "data": {
      "text/plain": [
       "183.90214789392755"
      ]
     },
     "metadata": {},
     "execution_count": 68
    }
   ],
   "metadata": {}
  },
  {
   "cell_type": "code",
   "execution_count": 57,
   "source": [
    "t=pd.DataFrame()\n",
    "t['class'] = y_test_3class\n",
    "t['blah'] = ''\n",
    "t.groupby('class').count()"
   ],
   "outputs": [
    {
     "output_type": "error",
     "ename": "NameError",
     "evalue": "name 'y_test_3class' is not defined",
     "traceback": [
      "\u001b[0;31m---------------------------------------------------------------------------\u001b[0m",
      "\u001b[0;31mNameError\u001b[0m                                 Traceback (most recent call last)",
      "\u001b[0;32m<ipython-input-57-35c73c451663>\u001b[0m in \u001b[0;36m<module>\u001b[0;34m\u001b[0m\n\u001b[1;32m      1\u001b[0m \u001b[0mt\u001b[0m\u001b[0;34m=\u001b[0m\u001b[0mpd\u001b[0m\u001b[0;34m.\u001b[0m\u001b[0mDataFrame\u001b[0m\u001b[0;34m(\u001b[0m\u001b[0;34m)\u001b[0m\u001b[0;34m\u001b[0m\u001b[0;34m\u001b[0m\u001b[0m\n\u001b[0;32m----> 2\u001b[0;31m \u001b[0mt\u001b[0m\u001b[0;34m[\u001b[0m\u001b[0;34m'class'\u001b[0m\u001b[0;34m]\u001b[0m \u001b[0;34m=\u001b[0m \u001b[0my_test_3class\u001b[0m\u001b[0;34m\u001b[0m\u001b[0;34m\u001b[0m\u001b[0m\n\u001b[0m\u001b[1;32m      3\u001b[0m \u001b[0mt\u001b[0m\u001b[0;34m[\u001b[0m\u001b[0;34m'blah'\u001b[0m\u001b[0;34m]\u001b[0m \u001b[0;34m=\u001b[0m \u001b[0;34m''\u001b[0m\u001b[0;34m\u001b[0m\u001b[0;34m\u001b[0m\u001b[0m\n\u001b[1;32m      4\u001b[0m \u001b[0mt\u001b[0m\u001b[0;34m.\u001b[0m\u001b[0mgroupby\u001b[0m\u001b[0;34m(\u001b[0m\u001b[0;34m'class'\u001b[0m\u001b[0;34m)\u001b[0m\u001b[0;34m.\u001b[0m\u001b[0mcount\u001b[0m\u001b[0;34m(\u001b[0m\u001b[0;34m)\u001b[0m\u001b[0;34m\u001b[0m\u001b[0;34m\u001b[0m\u001b[0m\n",
      "\u001b[0;31mNameError\u001b[0m: name 'y_test_3class' is not defined"
     ]
    }
   ],
   "metadata": {}
  },
  {
   "cell_type": "code",
   "execution_count": null,
   "source": [
    "from sklearn.metrics import confusion_matrix\n",
    "from sklearn.metrics import precision_score\n",
    "k=5\n",
    "KNN_model = KNeighborsClassifier(n_neighbors=k)\n",
    "KNN_model.fit(X_train, y_train_3class)\n",
    "KNN_prediction = KNN_model.predict(X_test)\n",
    "score=precision_score(y_test_3class, KNN_prediction, average='macro')\n",
    "cm = confusion_matrix(y_test_3class, KNN_prediction) # clean, highfry, layered, lowfry, midfry, no vocals\n",
    "print(cm)\n",
    "print(score)"
   ],
   "outputs": [],
   "metadata": {}
  },
  {
   "cell_type": "markdown",
   "source": [
    "# Classify"
   ],
   "metadata": {}
  },
  {
   "cell_type": "markdown",
   "source": [
    "## Dummy Classifier "
   ],
   "metadata": {}
  },
  {
   "cell_type": "code",
   "execution_count": 60,
   "source": [
    "from sklearn.dummy import DummyClassifier\n",
    "from sklearn.metrics import confusion_matrix\n",
    "from sklearn.metrics import precision_score\n",
    "dummy = DummyClassifier(strategy=\"uniform\")\n",
    "dummy.fit(X_train,y_train)\n",
    "random_output=dummy.predict(X_test)\n",
    "\n",
    "score=precision_score(y_test, random_output, average='macro')\n",
    "cm = confusion_matrix(y_test, random_output)\n",
    "\n",
    "print(cm)\n",
    "print(score)"
   ],
   "outputs": [
    {
     "output_type": "stream",
     "name": "stdout",
     "text": [
      "[[17 15 21 24  9 25]\n",
      " [54 42 53 45 51 50]\n",
      " [52 47 53 55 54 47]\n",
      " [66 58 69 80 58 63]\n",
      " [45 31 38 45 34 34]\n",
      " [47 46 36 36 41 36]]\n",
      "0.16534279689110595\n"
     ]
    }
   ],
   "metadata": {}
  },
  {
   "cell_type": "markdown",
   "source": [
    "## Actual Classifier"
   ],
   "metadata": {}
  },
  {
   "cell_type": "code",
   "execution_count": 63,
   "source": [
    "from sklearn.metrics import confusion_matrix\n",
    "from sklearn.metrics import precision_score\n",
    "k=4\n",
    "KNN_model = KNeighborsClassifier(n_neighbors=k)\n",
    "KNN_model.fit(X_train, y_train)\n",
    "KNN_prediction = KNN_model.predict(X_test)\n",
    "score=precision_score(y_test, KNN_prediction, average='macro')\n",
    "cm = confusion_matrix(y_test, KNN_prediction) # clean, highfry, layered, lowfry, midfry, no vocals\n",
    "print(cm)\n",
    "print(score)"
   ],
   "outputs": [
    {
     "output_type": "stream",
     "name": "stdout",
     "text": [
      "[[ 33   5  10   2  37  24]\n",
      " [114  84  33   9  40  15]\n",
      " [ 95  73  30   4  39  67]\n",
      " [ 87  26 111  49  60  61]\n",
      " [ 89  39  23  11  39  26]\n",
      " [ 62  31  10  12  21 106]]\n",
      "0.26926132025584365\n"
     ]
    },
    {
     "output_type": "stream",
     "name": "stderr",
     "text": [
      "/usr/local/lib/python3.9/site-packages/sklearn/neighbors/_classification.py:179: DataConversionWarning:\n",
      "\n",
      "A column-vector y was passed when a 1d array was expected. Please change the shape of y to (n_samples,), for example using ravel().\n",
      "\n"
     ]
    }
   ],
   "metadata": {}
  },
  {
   "cell_type": "markdown",
   "source": [
    "### Plotting macro accuracy vs k"
   ],
   "metadata": {}
  },
  {
   "cell_type": "code",
   "execution_count": 61,
   "source": [
    "from matplotlib import pyplot as plt \n",
    "k_plt=[]\n",
    "score_plt=[]\n",
    "k=1\n",
    "while 1:\n",
    "    if k <=15:\n",
    "        print(k)\n",
    "        k_plt.append(k)\n",
    "        KNN_model = KNeighborsClassifier(n_neighbors=k)\n",
    "        KNN_model.fit(X_train, y_train)\n",
    "        KNN_prediction = KNN_model.predict(X_test)\n",
    "        score=precision_score(y_test, KNN_prediction, average='macro')\n",
    "        score_plt.append(score)\n",
    "        k += 1\n",
    "    else:\n",
    "        break\n",
    "#plt.plot(k_plt,score_plt)"
   ],
   "outputs": [
    {
     "output_type": "stream",
     "name": "stdout",
     "text": [
      "1\n",
      "2\n",
      "3\n"
     ]
    },
    {
     "output_type": "stream",
     "name": "stderr",
     "text": [
      "/usr/local/lib/python3.9/site-packages/sklearn/neighbors/_classification.py:179: DataConversionWarning: A column-vector y was passed when a 1d array was expected. Please change the shape of y to (n_samples,), for example using ravel().\n",
      "  return self._fit(X, y)\n",
      "/usr/local/lib/python3.9/site-packages/sklearn/neighbors/_classification.py:179: DataConversionWarning: A column-vector y was passed when a 1d array was expected. Please change the shape of y to (n_samples,), for example using ravel().\n",
      "  return self._fit(X, y)\n",
      "/usr/local/lib/python3.9/site-packages/sklearn/neighbors/_classification.py:179: DataConversionWarning: A column-vector y was passed when a 1d array was expected. Please change the shape of y to (n_samples,), for example using ravel().\n",
      "  return self._fit(X, y)\n"
     ]
    },
    {
     "output_type": "stream",
     "name": "stdout",
     "text": [
      "4\n",
      "5\n",
      "6\n"
     ]
    },
    {
     "output_type": "stream",
     "name": "stderr",
     "text": [
      "/usr/local/lib/python3.9/site-packages/sklearn/neighbors/_classification.py:179: DataConversionWarning: A column-vector y was passed when a 1d array was expected. Please change the shape of y to (n_samples,), for example using ravel().\n",
      "  return self._fit(X, y)\n",
      "/usr/local/lib/python3.9/site-packages/sklearn/neighbors/_classification.py:179: DataConversionWarning: A column-vector y was passed when a 1d array was expected. Please change the shape of y to (n_samples,), for example using ravel().\n",
      "  return self._fit(X, y)\n",
      "/usr/local/lib/python3.9/site-packages/sklearn/neighbors/_classification.py:179: DataConversionWarning: A column-vector y was passed when a 1d array was expected. Please change the shape of y to (n_samples,), for example using ravel().\n",
      "  return self._fit(X, y)\n"
     ]
    },
    {
     "output_type": "stream",
     "name": "stdout",
     "text": [
      "7\n",
      "8\n",
      "9\n"
     ]
    },
    {
     "output_type": "stream",
     "name": "stderr",
     "text": [
      "/usr/local/lib/python3.9/site-packages/sklearn/neighbors/_classification.py:179: DataConversionWarning: A column-vector y was passed when a 1d array was expected. Please change the shape of y to (n_samples,), for example using ravel().\n",
      "  return self._fit(X, y)\n",
      "/usr/local/lib/python3.9/site-packages/sklearn/neighbors/_classification.py:179: DataConversionWarning: A column-vector y was passed when a 1d array was expected. Please change the shape of y to (n_samples,), for example using ravel().\n",
      "  return self._fit(X, y)\n",
      "/usr/local/lib/python3.9/site-packages/sklearn/neighbors/_classification.py:179: DataConversionWarning: A column-vector y was passed when a 1d array was expected. Please change the shape of y to (n_samples,), for example using ravel().\n",
      "  return self._fit(X, y)\n"
     ]
    },
    {
     "output_type": "stream",
     "name": "stdout",
     "text": [
      "10\n",
      "11\n",
      "12\n"
     ]
    },
    {
     "output_type": "stream",
     "name": "stderr",
     "text": [
      "/usr/local/lib/python3.9/site-packages/sklearn/neighbors/_classification.py:179: DataConversionWarning: A column-vector y was passed when a 1d array was expected. Please change the shape of y to (n_samples,), for example using ravel().\n",
      "  return self._fit(X, y)\n",
      "/usr/local/lib/python3.9/site-packages/sklearn/neighbors/_classification.py:179: DataConversionWarning: A column-vector y was passed when a 1d array was expected. Please change the shape of y to (n_samples,), for example using ravel().\n",
      "  return self._fit(X, y)\n",
      "/usr/local/lib/python3.9/site-packages/sklearn/neighbors/_classification.py:179: DataConversionWarning: A column-vector y was passed when a 1d array was expected. Please change the shape of y to (n_samples,), for example using ravel().\n",
      "  return self._fit(X, y)\n"
     ]
    },
    {
     "output_type": "stream",
     "name": "stdout",
     "text": [
      "13\n",
      "14\n",
      "15\n"
     ]
    },
    {
     "output_type": "stream",
     "name": "stderr",
     "text": [
      "/usr/local/lib/python3.9/site-packages/sklearn/neighbors/_classification.py:179: DataConversionWarning: A column-vector y was passed when a 1d array was expected. Please change the shape of y to (n_samples,), for example using ravel().\n",
      "  return self._fit(X, y)\n",
      "/usr/local/lib/python3.9/site-packages/sklearn/neighbors/_classification.py:179: DataConversionWarning: A column-vector y was passed when a 1d array was expected. Please change the shape of y to (n_samples,), for example using ravel().\n",
      "  return self._fit(X, y)\n",
      "/usr/local/lib/python3.9/site-packages/sklearn/neighbors/_classification.py:179: DataConversionWarning: A column-vector y was passed when a 1d array was expected. Please change the shape of y to (n_samples,), for example using ravel().\n",
      "  return self._fit(X, y)\n"
     ]
    }
   ],
   "metadata": {}
  },
  {
   "cell_type": "code",
   "execution_count": 62,
   "source": [
    "import plotly.express as px\n",
    "p=pd.DataFrame()\n",
    "p['k'] = k_plt\n",
    "p['score'] = score_plt\n",
    "fig = px.line(p,x='k',y='score',title='k value vs accuracy')\n",
    "fig.show()"
   ],
   "outputs": [
    {
     "output_type": "display_data",
     "data": {
      "application/vnd.plotly.v1+json": {
       "config": {
        "plotlyServerURL": "https://plot.ly"
       },
       "data": [
        {
         "hovertemplate": "k=%{x}<br>score=%{y}<extra></extra>",
         "legendgroup": "",
         "line": {
          "color": "#636efa",
          "dash": "solid"
         },
         "mode": "lines",
         "name": "",
         "orientation": "v",
         "showlegend": false,
         "type": "scatter",
         "x": [
          1,
          2,
          3,
          4,
          5,
          6,
          7,
          8,
          9,
          10,
          11,
          12,
          13,
          14,
          15
         ],
         "xaxis": "x",
         "y": [
          0.24015691383842178,
          0.2507875838023648,
          0.2496348297631704,
          0.26926132025584365,
          0.2551113807822149,
          0.2563523130412558,
          0.25137986428794556,
          0.2567961218402671,
          0.2588128711237884,
          0.27266653545982455,
          0.273146820574459,
          0.2711324301697939,
          0.2741686473720792,
          0.2703432284635164,
          0.27573087845819155
         ],
         "yaxis": "y"
        }
       ],
       "layout": {
        "legend": {
         "tracegroupgap": 0
        },
        "template": {
         "data": {
          "bar": [
           {
            "error_x": {
             "color": "#2a3f5f"
            },
            "error_y": {
             "color": "#2a3f5f"
            },
            "marker": {
             "line": {
              "color": "#E5ECF6",
              "width": 0.5
             }
            },
            "type": "bar"
           }
          ],
          "barpolar": [
           {
            "marker": {
             "line": {
              "color": "#E5ECF6",
              "width": 0.5
             }
            },
            "type": "barpolar"
           }
          ],
          "carpet": [
           {
            "aaxis": {
             "endlinecolor": "#2a3f5f",
             "gridcolor": "white",
             "linecolor": "white",
             "minorgridcolor": "white",
             "startlinecolor": "#2a3f5f"
            },
            "baxis": {
             "endlinecolor": "#2a3f5f",
             "gridcolor": "white",
             "linecolor": "white",
             "minorgridcolor": "white",
             "startlinecolor": "#2a3f5f"
            },
            "type": "carpet"
           }
          ],
          "choropleth": [
           {
            "colorbar": {
             "outlinewidth": 0,
             "ticks": ""
            },
            "type": "choropleth"
           }
          ],
          "contour": [
           {
            "colorbar": {
             "outlinewidth": 0,
             "ticks": ""
            },
            "colorscale": [
             [
              0,
              "#0d0887"
             ],
             [
              0.1111111111111111,
              "#46039f"
             ],
             [
              0.2222222222222222,
              "#7201a8"
             ],
             [
              0.3333333333333333,
              "#9c179e"
             ],
             [
              0.4444444444444444,
              "#bd3786"
             ],
             [
              0.5555555555555556,
              "#d8576b"
             ],
             [
              0.6666666666666666,
              "#ed7953"
             ],
             [
              0.7777777777777778,
              "#fb9f3a"
             ],
             [
              0.8888888888888888,
              "#fdca26"
             ],
             [
              1,
              "#f0f921"
             ]
            ],
            "type": "contour"
           }
          ],
          "contourcarpet": [
           {
            "colorbar": {
             "outlinewidth": 0,
             "ticks": ""
            },
            "type": "contourcarpet"
           }
          ],
          "heatmap": [
           {
            "colorbar": {
             "outlinewidth": 0,
             "ticks": ""
            },
            "colorscale": [
             [
              0,
              "#0d0887"
             ],
             [
              0.1111111111111111,
              "#46039f"
             ],
             [
              0.2222222222222222,
              "#7201a8"
             ],
             [
              0.3333333333333333,
              "#9c179e"
             ],
             [
              0.4444444444444444,
              "#bd3786"
             ],
             [
              0.5555555555555556,
              "#d8576b"
             ],
             [
              0.6666666666666666,
              "#ed7953"
             ],
             [
              0.7777777777777778,
              "#fb9f3a"
             ],
             [
              0.8888888888888888,
              "#fdca26"
             ],
             [
              1,
              "#f0f921"
             ]
            ],
            "type": "heatmap"
           }
          ],
          "heatmapgl": [
           {
            "colorbar": {
             "outlinewidth": 0,
             "ticks": ""
            },
            "colorscale": [
             [
              0,
              "#0d0887"
             ],
             [
              0.1111111111111111,
              "#46039f"
             ],
             [
              0.2222222222222222,
              "#7201a8"
             ],
             [
              0.3333333333333333,
              "#9c179e"
             ],
             [
              0.4444444444444444,
              "#bd3786"
             ],
             [
              0.5555555555555556,
              "#d8576b"
             ],
             [
              0.6666666666666666,
              "#ed7953"
             ],
             [
              0.7777777777777778,
              "#fb9f3a"
             ],
             [
              0.8888888888888888,
              "#fdca26"
             ],
             [
              1,
              "#f0f921"
             ]
            ],
            "type": "heatmapgl"
           }
          ],
          "histogram": [
           {
            "marker": {
             "colorbar": {
              "outlinewidth": 0,
              "ticks": ""
             }
            },
            "type": "histogram"
           }
          ],
          "histogram2d": [
           {
            "colorbar": {
             "outlinewidth": 0,
             "ticks": ""
            },
            "colorscale": [
             [
              0,
              "#0d0887"
             ],
             [
              0.1111111111111111,
              "#46039f"
             ],
             [
              0.2222222222222222,
              "#7201a8"
             ],
             [
              0.3333333333333333,
              "#9c179e"
             ],
             [
              0.4444444444444444,
              "#bd3786"
             ],
             [
              0.5555555555555556,
              "#d8576b"
             ],
             [
              0.6666666666666666,
              "#ed7953"
             ],
             [
              0.7777777777777778,
              "#fb9f3a"
             ],
             [
              0.8888888888888888,
              "#fdca26"
             ],
             [
              1,
              "#f0f921"
             ]
            ],
            "type": "histogram2d"
           }
          ],
          "histogram2dcontour": [
           {
            "colorbar": {
             "outlinewidth": 0,
             "ticks": ""
            },
            "colorscale": [
             [
              0,
              "#0d0887"
             ],
             [
              0.1111111111111111,
              "#46039f"
             ],
             [
              0.2222222222222222,
              "#7201a8"
             ],
             [
              0.3333333333333333,
              "#9c179e"
             ],
             [
              0.4444444444444444,
              "#bd3786"
             ],
             [
              0.5555555555555556,
              "#d8576b"
             ],
             [
              0.6666666666666666,
              "#ed7953"
             ],
             [
              0.7777777777777778,
              "#fb9f3a"
             ],
             [
              0.8888888888888888,
              "#fdca26"
             ],
             [
              1,
              "#f0f921"
             ]
            ],
            "type": "histogram2dcontour"
           }
          ],
          "mesh3d": [
           {
            "colorbar": {
             "outlinewidth": 0,
             "ticks": ""
            },
            "type": "mesh3d"
           }
          ],
          "parcoords": [
           {
            "line": {
             "colorbar": {
              "outlinewidth": 0,
              "ticks": ""
             }
            },
            "type": "parcoords"
           }
          ],
          "pie": [
           {
            "automargin": true,
            "type": "pie"
           }
          ],
          "scatter": [
           {
            "marker": {
             "colorbar": {
              "outlinewidth": 0,
              "ticks": ""
             }
            },
            "type": "scatter"
           }
          ],
          "scatter3d": [
           {
            "line": {
             "colorbar": {
              "outlinewidth": 0,
              "ticks": ""
             }
            },
            "marker": {
             "colorbar": {
              "outlinewidth": 0,
              "ticks": ""
             }
            },
            "type": "scatter3d"
           }
          ],
          "scattercarpet": [
           {
            "marker": {
             "colorbar": {
              "outlinewidth": 0,
              "ticks": ""
             }
            },
            "type": "scattercarpet"
           }
          ],
          "scattergeo": [
           {
            "marker": {
             "colorbar": {
              "outlinewidth": 0,
              "ticks": ""
             }
            },
            "type": "scattergeo"
           }
          ],
          "scattergl": [
           {
            "marker": {
             "colorbar": {
              "outlinewidth": 0,
              "ticks": ""
             }
            },
            "type": "scattergl"
           }
          ],
          "scattermapbox": [
           {
            "marker": {
             "colorbar": {
              "outlinewidth": 0,
              "ticks": ""
             }
            },
            "type": "scattermapbox"
           }
          ],
          "scatterpolar": [
           {
            "marker": {
             "colorbar": {
              "outlinewidth": 0,
              "ticks": ""
             }
            },
            "type": "scatterpolar"
           }
          ],
          "scatterpolargl": [
           {
            "marker": {
             "colorbar": {
              "outlinewidth": 0,
              "ticks": ""
             }
            },
            "type": "scatterpolargl"
           }
          ],
          "scatterternary": [
           {
            "marker": {
             "colorbar": {
              "outlinewidth": 0,
              "ticks": ""
             }
            },
            "type": "scatterternary"
           }
          ],
          "surface": [
           {
            "colorbar": {
             "outlinewidth": 0,
             "ticks": ""
            },
            "colorscale": [
             [
              0,
              "#0d0887"
             ],
             [
              0.1111111111111111,
              "#46039f"
             ],
             [
              0.2222222222222222,
              "#7201a8"
             ],
             [
              0.3333333333333333,
              "#9c179e"
             ],
             [
              0.4444444444444444,
              "#bd3786"
             ],
             [
              0.5555555555555556,
              "#d8576b"
             ],
             [
              0.6666666666666666,
              "#ed7953"
             ],
             [
              0.7777777777777778,
              "#fb9f3a"
             ],
             [
              0.8888888888888888,
              "#fdca26"
             ],
             [
              1,
              "#f0f921"
             ]
            ],
            "type": "surface"
           }
          ],
          "table": [
           {
            "cells": {
             "fill": {
              "color": "#EBF0F8"
             },
             "line": {
              "color": "white"
             }
            },
            "header": {
             "fill": {
              "color": "#C8D4E3"
             },
             "line": {
              "color": "white"
             }
            },
            "type": "table"
           }
          ]
         },
         "layout": {
          "annotationdefaults": {
           "arrowcolor": "#2a3f5f",
           "arrowhead": 0,
           "arrowwidth": 1
          },
          "autotypenumbers": "strict",
          "coloraxis": {
           "colorbar": {
            "outlinewidth": 0,
            "ticks": ""
           }
          },
          "colorscale": {
           "diverging": [
            [
             0,
             "#8e0152"
            ],
            [
             0.1,
             "#c51b7d"
            ],
            [
             0.2,
             "#de77ae"
            ],
            [
             0.3,
             "#f1b6da"
            ],
            [
             0.4,
             "#fde0ef"
            ],
            [
             0.5,
             "#f7f7f7"
            ],
            [
             0.6,
             "#e6f5d0"
            ],
            [
             0.7,
             "#b8e186"
            ],
            [
             0.8,
             "#7fbc41"
            ],
            [
             0.9,
             "#4d9221"
            ],
            [
             1,
             "#276419"
            ]
           ],
           "sequential": [
            [
             0,
             "#0d0887"
            ],
            [
             0.1111111111111111,
             "#46039f"
            ],
            [
             0.2222222222222222,
             "#7201a8"
            ],
            [
             0.3333333333333333,
             "#9c179e"
            ],
            [
             0.4444444444444444,
             "#bd3786"
            ],
            [
             0.5555555555555556,
             "#d8576b"
            ],
            [
             0.6666666666666666,
             "#ed7953"
            ],
            [
             0.7777777777777778,
             "#fb9f3a"
            ],
            [
             0.8888888888888888,
             "#fdca26"
            ],
            [
             1,
             "#f0f921"
            ]
           ],
           "sequentialminus": [
            [
             0,
             "#0d0887"
            ],
            [
             0.1111111111111111,
             "#46039f"
            ],
            [
             0.2222222222222222,
             "#7201a8"
            ],
            [
             0.3333333333333333,
             "#9c179e"
            ],
            [
             0.4444444444444444,
             "#bd3786"
            ],
            [
             0.5555555555555556,
             "#d8576b"
            ],
            [
             0.6666666666666666,
             "#ed7953"
            ],
            [
             0.7777777777777778,
             "#fb9f3a"
            ],
            [
             0.8888888888888888,
             "#fdca26"
            ],
            [
             1,
             "#f0f921"
            ]
           ]
          },
          "colorway": [
           "#636efa",
           "#EF553B",
           "#00cc96",
           "#ab63fa",
           "#FFA15A",
           "#19d3f3",
           "#FF6692",
           "#B6E880",
           "#FF97FF",
           "#FECB52"
          ],
          "font": {
           "color": "#2a3f5f"
          },
          "geo": {
           "bgcolor": "white",
           "lakecolor": "white",
           "landcolor": "#E5ECF6",
           "showlakes": true,
           "showland": true,
           "subunitcolor": "white"
          },
          "hoverlabel": {
           "align": "left"
          },
          "hovermode": "closest",
          "mapbox": {
           "style": "light"
          },
          "paper_bgcolor": "white",
          "plot_bgcolor": "#E5ECF6",
          "polar": {
           "angularaxis": {
            "gridcolor": "white",
            "linecolor": "white",
            "ticks": ""
           },
           "bgcolor": "#E5ECF6",
           "radialaxis": {
            "gridcolor": "white",
            "linecolor": "white",
            "ticks": ""
           }
          },
          "scene": {
           "xaxis": {
            "backgroundcolor": "#E5ECF6",
            "gridcolor": "white",
            "gridwidth": 2,
            "linecolor": "white",
            "showbackground": true,
            "ticks": "",
            "zerolinecolor": "white"
           },
           "yaxis": {
            "backgroundcolor": "#E5ECF6",
            "gridcolor": "white",
            "gridwidth": 2,
            "linecolor": "white",
            "showbackground": true,
            "ticks": "",
            "zerolinecolor": "white"
           },
           "zaxis": {
            "backgroundcolor": "#E5ECF6",
            "gridcolor": "white",
            "gridwidth": 2,
            "linecolor": "white",
            "showbackground": true,
            "ticks": "",
            "zerolinecolor": "white"
           }
          },
          "shapedefaults": {
           "line": {
            "color": "#2a3f5f"
           }
          },
          "ternary": {
           "aaxis": {
            "gridcolor": "white",
            "linecolor": "white",
            "ticks": ""
           },
           "baxis": {
            "gridcolor": "white",
            "linecolor": "white",
            "ticks": ""
           },
           "bgcolor": "#E5ECF6",
           "caxis": {
            "gridcolor": "white",
            "linecolor": "white",
            "ticks": ""
           }
          },
          "title": {
           "x": 0.05
          },
          "xaxis": {
           "automargin": true,
           "gridcolor": "white",
           "linecolor": "white",
           "ticks": "",
           "title": {
            "standoff": 15
           },
           "zerolinecolor": "white",
           "zerolinewidth": 2
          },
          "yaxis": {
           "automargin": true,
           "gridcolor": "white",
           "linecolor": "white",
           "ticks": "",
           "title": {
            "standoff": 15
           },
           "zerolinecolor": "white",
           "zerolinewidth": 2
          }
         }
        },
        "title": {
         "text": "k value vs accuracy"
        },
        "xaxis": {
         "anchor": "y",
         "domain": [
          0,
          1
         ],
         "title": {
          "text": "k"
         }
        },
        "yaxis": {
         "anchor": "x",
         "domain": [
          0,
          1
         ],
         "title": {
          "text": "score"
         }
        }
       }
      }
     },
     "metadata": {}
    }
   ],
   "metadata": {}
  },
  {
   "cell_type": "code",
   "execution_count": null,
   "source": [],
   "outputs": [],
   "metadata": {}
  }
 ],
 "metadata": {
  "orig_nbformat": 4,
  "language_info": {
   "name": "python",
   "version": "3.9.7",
   "mimetype": "text/x-python",
   "codemirror_mode": {
    "name": "ipython",
    "version": 3
   },
   "pygments_lexer": "ipython3",
   "nbconvert_exporter": "python",
   "file_extension": ".py"
  },
  "kernelspec": {
   "name": "python3",
   "display_name": "Python 3.9.7 64-bit"
  },
  "interpreter": {
   "hash": "aee8b7b246df8f9039afb4144a1f6fd8d2ca17a180786b69acc140d282b71a49"
  }
 },
 "nbformat": 4,
 "nbformat_minor": 2
}